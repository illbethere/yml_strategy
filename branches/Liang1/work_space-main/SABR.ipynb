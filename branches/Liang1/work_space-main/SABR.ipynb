{
 "cells": [
  {
   "cell_type": "code",
   "execution_count": 3,
   "id": "5bdba4d7",
   "metadata": {},
   "outputs": [],
   "source": [
    "from datetime import datetime, date\n",
    "import numpy as np\n",
    "import pandas as pd\n",
    "from scipy.stats import norm\n",
    "import QuantLib as ql\n",
    "from pysabr import Hagan2002LognormalSABR, Hagan2002NormalSABR"
   ]
  },
  {
   "cell_type": "code",
   "execution_count": 4,
   "id": "b8d7054b",
   "metadata": {},
   "outputs": [],
   "source": [
    "def cal_trading_days(start_date, end_date):\n",
    "    \"\"\"\n",
    "    计算两个日期之间的交易日数量\n",
    "    \"\"\"\n",
    "    trading_calendar = pd.read_pickle('data/trading_calendar.pkl')\n",
    "    if isinstance(start_date, str):\n",
    "        start_date = start_date\n",
    "    elif isinstance(start_date, (datetime, date, pd.Timestamp)):\n",
    "        start_date = pd.to_datetime(start_date).strftime('%Y%m%d')\n",
    "\n",
    "    if isinstance(end_date, str):\n",
    "        end_date = end_date\n",
    "    elif isinstance(end_date, (datetime, date, pd.Timestamp)):\n",
    "        end_date = pd.to_datetime(end_date).strftime('%Y%m%d')\n",
    "    trading_days = trading_calendar[(trading_calendar[0] >= start_date) & (trading_calendar[0] <= end_date)]\n",
    "    return len(trading_days)"
   ]
  },
  {
   "cell_type": "code",
   "execution_count": 5,
   "id": "67ac35d4",
   "metadata": {},
   "outputs": [],
   "source": [
    "def black_scholes_price(S, K, sigma, T, r, q, is_call=True):\n",
    "    \"\"\"\n",
    "    Black-Scholes期权定价公式\n",
    "    S: 标的现价\n",
    "    K: 行权价\n",
    "    sigma: 隐含波动率（对数正态）\n",
    "    T: 期限（年）\n",
    "    r: 无风险利率\n",
    "    q: 标的资产分红率（股票适用）\n",
    "    is_call: 看涨/看跌期权\n",
    "    \"\"\"\n",
    "    F = S * np.exp((r - q) * T)  # 远期价格\n",
    "    d1 = (np.log(F / K) + 0.5 * sigma**2 * T) / (sigma * np.sqrt(T))\n",
    "    d2 = d1 - sigma * np.sqrt(T)\n",
    "    if is_call:\n",
    "        price = np.exp(-r * T) * (F * norm.cdf(d1) - K * norm.cdf(d2))\n",
    "    else:\n",
    "        price = np.exp(-r * T) * (K * norm.cdf(-d2) - F * norm.cdf(-d1))\n",
    "    return price"
   ]
  },
  {
   "cell_type": "code",
   "execution_count": 24,
   "id": "0c890679",
   "metadata": {},
   "outputs": [
    {
     "name": "stdout",
     "output_type": "stream",
     "text": [
      "标的现货价格: 4792\n",
      "行权价: 7000\n",
      "到期时间(年): 0.2460\n",
      "无风险利率: 2.00%\n",
      "计算得到的ln隐含波动率: 18.32%\n",
      "计算得到的n隐含波动率: 18.36%\n"
     ]
    }
   ],
   "source": [
    "S = 4792     # 标的现货价格\n",
    "K = 7000     # 行权价\n",
    "T = cal_trading_days('20250624', '20250917') / 252  # 年化到期时间\n",
    "r = 0.02     # 无风险利率\n",
    "sigma_atm = 0.20 * S   # ATM波动率\n",
    "beta = 0.5   # 弹性参数\n",
    "rho = -0.5   # 价格-波动率相关性\n",
    "volvol = 0.8  # 波动率的波动率\n",
    "\n",
    "# 计算远期价格（假设无分红，远期=现货）\n",
    "f = S #* np.exp(r * T)\n",
    "\n",
    "# 初始化SABR模型（这里使用对数正态SABR）\n",
    "sabr_ln = Hagan2002LognormalSABR(\n",
    "    f=f ,          # 远期价格\n",
    "    shift=0,      # 位移（商品期权通常为0）\n",
    "    t=T,          # 到期时间\n",
    "    v_atm_n=sigma_atm ,  # ATM波动率\n",
    "    beta=beta,    # 弹性参数\n",
    "    rho=rho,      # 相关系数\n",
    "    volvol=volvol # 波动率的波动率\n",
    ")\n",
    "\n",
    "sabr_n = Hagan2002NormalSABR(\n",
    "    f=f ,          # 远期价格\n",
    "    shift=0,      # 位移（商品期权通常为0）\n",
    "    t=T,          # 到期时间\n",
    "    v_atm_n=sigma_atm ,  # ATM波动率\n",
    "    beta=beta,    # 弹性参数\n",
    "    rho=rho,      # 相关系数\n",
    "    volvol=volvol # 波动率的波动率\n",
    ")\n",
    "\n",
    "# 计算给定行权价的隐含波动率\n",
    "ln_vol = sabr_ln.lognormal_vol(K) # 获取正态波动率\n",
    "n_vol = sabr_n.lognormal_vol(K) # 获取对数正态波动率\n",
    "# 或者使用对数正态波动率：sabr_ln.lognormal_vol(K)\n",
    "\n",
    "print(f\"标的现货价格: {S}\")\n",
    "print(f\"行权价: {K}\")\n",
    "print(f\"到期时间(年): {T:.4f}\")\n",
    "print(f\"无风险利率: {r:.2%}\")\n",
    "print(f\"计算得到的ln隐含波动率: {ln_vol:.2%}\")\n",
    "print(f\"计算得到的n隐含波动率: {n_vol:.2%}\")"
   ]
  },
  {
   "cell_type": "code",
   "execution_count": null,
   "id": "b48a4fd0",
   "metadata": {},
   "outputs": [],
   "source": []
  },
  {
   "cell_type": "code",
   "execution_count": null,
   "id": "7c21a50e",
   "metadata": {},
   "outputs": [
    {
     "name": "stdout",
     "output_type": "stream",
     "text": [
      "对数正态SABR隐含波动率（Black-Scholes）: 17.52%\n"
     ]
    }
   ],
   "source": []
  },
  {
   "cell_type": "code",
   "execution_count": 25,
   "id": "ab903a34",
   "metadata": {},
   "outputs": [],
   "source": [
    "strikes = np.array([4250, 4300, 4350, 4400, 4450, 4500, 4550, 4600, 4650, 4700, 4750, 4800, 4850, 4900, 4950, 5000, 5100, 5200, 5300, 5400, 5500, 5600, 5700, 5800])\n",
    "sigmas = np.array([0.5912, 0.2404,0.2261,0.1926, 0.1982, 0.1966,0.1891, 0.1866, 0.1854, 0.1858, 0.1835, 0.1832, 0.1855, 0.1858, 0.1888,0.1908, 0.1996, 0.2094, 0.2205, 0.2318,0.2452, 0.2586,0.2740, 0.2818])"
   ]
  },
  {
   "cell_type": "code",
   "execution_count": 26,
   "id": "0655cc53",
   "metadata": {},
   "outputs": [],
   "source": [
    "[alpha, rho, volvol] = Hagan2002LognormalSABR(f=4766, shift=0, t=0.22 , beta=0.5).fit(strikes, sigmas)"
   ]
  },
  {
   "cell_type": "code",
   "execution_count": 27,
   "id": "c66f3595",
   "metadata": {},
   "outputs": [
    {
     "data": {
      "text/plain": [
       "[np.float64(0.12009724417035736),\n",
       " np.float64(-0.35686255769273717),\n",
       " np.float64(0.04054373912676577)]"
      ]
     },
     "execution_count": 27,
     "metadata": {},
     "output_type": "execute_result"
    }
   ],
   "source": [
    "[alpha, rho, volvol]"
   ]
  },
  {
   "cell_type": "code",
   "execution_count": 32,
   "id": "ceaaab2e",
   "metadata": {},
   "outputs": [
    {
     "name": "stdout",
     "output_type": "stream",
     "text": [
      "对数正态SABR隐含波动率（Black-Scholes）: 16.91%\n"
     ]
    }
   ],
   "source": [
    "# 参数设置\n",
    "S = 4766           # 标的现货价格\n",
    "K = 5800           # 行权价\n",
    "T = 0.22           # 年化到期时间\n",
    "sigma_ln_atm = 0.186 * S # ATM对数正态波动率\n",
    "beta = 0.12009724417035736        # 弹性参数\n",
    "rho = -0.35686255769273717        # 价格-波动率相关性\n",
    "volvol = 0.04054373912676577     # 波动率的波动率\n",
    "\n",
    "# 初始化对数正态SABR模型\n",
    "\n",
    "sabr_ln = Hagan2002LognormalSABR(\n",
    "    f=S,           # 远期价格（假设无分红，F=S）\n",
    "    shift=0,       # 位移（通常为0）\n",
    "    t=T,           # 到期时间\n",
    "    v_atm_n=sigma_ln_atm ,  # 初始波动率（对数正态）\n",
    "    beta=beta,     # 弹性参数\n",
    "    rho=rho,       # 相关系数\n",
    "    volvol=volvol  # 波动率的波动率\n",
    ")\n",
    "\n",
    "# 计算行权价K处的对数正态隐含波动率\n",
    "ln_vol = sabr_ln.lognormal_vol(K)\n",
    "print(f\"对数正态SABR隐含波动率（Black-Scholes）: {ln_vol:.2%}\")"
   ]
  },
  {
   "cell_type": "code",
   "execution_count": null,
   "id": "6f0a7299",
   "metadata": {},
   "outputs": [],
   "source": []
  },
  {
   "cell_type": "code",
   "execution_count": null,
   "id": "8fa2ed0a",
   "metadata": {},
   "outputs": [],
   "source": []
  },
  {
   "cell_type": "code",
   "execution_count": null,
   "id": "a40cfec6",
   "metadata": {},
   "outputs": [],
   "source": []
  },
  {
   "cell_type": "code",
   "execution_count": null,
   "id": "0a0542d0",
   "metadata": {},
   "outputs": [],
   "source": []
  },
  {
   "cell_type": "code",
   "execution_count": null,
   "id": "f1e78d0c",
   "metadata": {},
   "outputs": [],
   "source": []
  },
  {
   "cell_type": "code",
   "execution_count": null,
   "id": "0d95e080",
   "metadata": {},
   "outputs": [],
   "source": []
  },
  {
   "cell_type": "code",
   "execution_count": null,
   "id": "b866698e",
   "metadata": {},
   "outputs": [],
   "source": []
  },
  {
   "cell_type": "code",
   "execution_count": null,
   "id": "75603451",
   "metadata": {},
   "outputs": [],
   "source": []
  },
  {
   "cell_type": "code",
   "execution_count": null,
   "id": "650f3685",
   "metadata": {},
   "outputs": [],
   "source": []
  },
  {
   "cell_type": "code",
   "execution_count": null,
   "id": "159b2096",
   "metadata": {},
   "outputs": [],
   "source": []
  },
  {
   "cell_type": "code",
   "execution_count": null,
   "id": "cd49cdfb",
   "metadata": {},
   "outputs": [],
   "source": []
  },
  {
   "cell_type": "code",
   "execution_count": null,
   "id": "c8209a7c",
   "metadata": {},
   "outputs": [],
   "source": []
  }
 ],
 "metadata": {
  "kernelspec": {
   "display_name": "Python [conda env:oye]",
   "language": "python",
   "name": "oye"
  },
  "language_info": {
   "codemirror_mode": {
    "name": "ipython",
    "version": 3
   },
   "file_extension": ".py",
   "mimetype": "text/x-python",
   "name": "python",
   "nbconvert_exporter": "python",
   "pygments_lexer": "ipython3",
   "version": "3.11.9"
  }
 },
 "nbformat": 4,
 "nbformat_minor": 5
}
