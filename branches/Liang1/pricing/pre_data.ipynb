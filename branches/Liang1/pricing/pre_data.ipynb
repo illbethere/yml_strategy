{
 "cells": [
  {
   "cell_type": "code",
   "execution_count": 1,
   "id": "9406b0cf",
   "metadata": {},
   "outputs": [
    {
     "name": "stdout",
     "output_type": "stream",
     "text": [
      "xtquant250516.1.1已经发布,前往 http://dict.thinktrader.net/nativeApi/download_xtquant.html 查看更新说明\n",
      "\n"
     ]
    }
   ],
   "source": [
    "import numpy as np\n",
    "import matplotlib.pyplot as plt\n",
    "import matplotlib as mpl\n",
    "import pandas as pd\n",
    "import scipy.stats as stats\n",
    "from scipy.interpolate import interp1d\n",
    "from scipy.optimize import minimize,least_squares,dual_annealing,differential_evolution\n",
    "from xtquant import xtdatacenter as xtdc\n",
    "from xtquant import xtdata\n",
    "from datetime import datetime\n",
    "\n",
    "xtdc.set_token('4065054877ce5724155dbc5bcba200381ce5eb35')\n",
    "xtdc.init()"
   ]
  },
  {
   "cell_type": "code",
   "execution_count": 30,
   "id": "a138d494",
   "metadata": {},
   "outputs": [],
   "source": [
    "def get_market_data(codes: list, period: str, start_time: str, end_time: str, count: int) -> dict:\n",
    "    \"\"\"获取市场数据\"\"\"\n",
    "    for code in codes:\n",
    "        xtdata.subscribe_quote(code, period, start_time, end_time, count, callback=None)\n",
    "        xtdata.download_history_data(code, period, start_time, end_time)\n",
    "    market_data = xtdata.get_market_data_ex([], codes, period, start_time, end_time, count=count, \n",
    "                                          dividend_type='none', fill_data=False)\n",
    "    for code in codes:\n",
    "        if market_data[code].empty:\n",
    "            print(f\"{code} 数据获取失败！\")\n",
    "            break\n",
    "    \n",
    "    return market_data"
   ]
  },
  {
   "cell_type": "code",
   "execution_count": 2,
   "id": "25745c0f",
   "metadata": {},
   "outputs": [],
   "source": [
    "def parse_option_code(option_code):\n",
    "    \"\"\"解析期权代码\"\"\"\n",
    "    code = option_code.split('.')[0]\n",
    "    if '-' in code:\n",
    "        parts = code.split('-')\n",
    "        if len(parts) == 3:\n",
    "            underlying = parts[0]\n",
    "            option_type = 'call' if parts[1].upper() == 'C' else 'put'\n",
    "            strike = int(parts[2])\n",
    "        else:\n",
    "            import traceback\n",
    "            traceback.print_exc()\n",
    "    else:\n",
    "        call_pos = code.find('C')\n",
    "        put_pos = code.find('P')\n",
    "        if call_pos != -1:\n",
    "            option_type = 'call'\n",
    "            underlying = code[:call_pos]\n",
    "            strike = int(code[call_pos + 1:])\n",
    "        elif put_pos != -1:\n",
    "            option_type = 'put'\n",
    "            underlying = code[:put_pos]\n",
    "            strike = int(code[put_pos + 1:])\n",
    "        else:\n",
    "            import traceback\n",
    "            traceback.print_exc()\n",
    "    return {\n",
    "        'option_type': option_type,\n",
    "        'underlying': underlying,\n",
    "        'strike': strike,\n",
    "        'exchange': option_code.split('.')[-1] if '.' in option_code else None\n",
    "    }"
   ]
  },
  {
   "cell_type": "code",
   "execution_count": null,
   "id": "3f232a9c",
   "metadata": {},
   "outputs": [
    {
     "name": "stdout",
     "output_type": "stream",
     "text": [
      "***** xtdata连接成功 *****\n",
      "服务信息: {'tag': 'xtquant', 'version': '1.0'}\n",
      "服务地址: 127.0.0.1:58609\n",
      "数据路径: c:\\Users\\HP\\Desktop\\Heston\\data\\datadir\n",
      "设置xtdata.enable_hello = False可隐藏此消息\n",
      "\n"
     ]
    }
   ],
   "source": [
    "xtdata.download_history_contracts()\n",
    "future_list = ['jd2508.DF', 'jd2509.DF']\n"
   ]
  },
  {
   "cell_type": "code",
   "execution_count": 33,
   "id": "c85314d1",
   "metadata": {},
   "outputs": [],
   "source": [
    "def get_option_data(future_list: list, date_str: str) -> pd.DataFrame:\n",
    "    \"\"\"获取某个时间节点的横截面期权数据\"\"\"\n",
    "    option_list = []\n",
    "    option_dict = {}\n",
    "    \n",
    "    for future_code in future_list:\n",
    "        options = xtdata.get_option_list(undl_code = future_code,dedate = '20250701',opttype = '',isavailavle= True)\n",
    "        if options:  # 确保options不为空\n",
    "            option_list.extend(options)\n",
    "    \n",
    "    option_data = get_market_data(codes = option_list, period = '1d', start_time = date_str, end_time = date_str, count = -1) \n",
    "\n",
    "    for option_code in option_list:\n",
    "        try:\n",
    "            # 获取期权的结算价格\n",
    "            if option_code in option_data and not option_data[option_code].empty:\n",
    "                settlement_price = option_data[option_code]['settelementPrice'].iloc[-1]  # 获取最新的结算价\n",
    "                \n",
    "                expire_date_str = xtdata.get_option_detail_data(option_code)['ExpireDate']\n",
    "                expire_date = datetime.strptime(expire_date_str, '%Y%m%d')\n",
    "                dt = datetime.strptime(date_str, '%Y%m%d')\n",
    "                delta_t = (expire_date - dt).days / 365.0\n",
    "\n",
    "                future_code = xtdata.get_option_detail_data(option_code)['OptUndlCodeFull']\n",
    "                future_price = get_market_data(codes=[future_code], period='1d', start_time=date_str, end_time=date_str, count=-1)[future_code]['settelementPrice'].iloc[-1]\n",
    "\n",
    "                # 解析期权代码\n",
    "                parsed_info = parse_option_code(option_code)\n",
    "                \n",
    "                # 创建该期权的字典\n",
    "                option_dict[option_code] = {\n",
    "                    'option_price': settlement_price,\n",
    "                    'future_price': future_price,\n",
    "                    'option_type': parsed_info['option_type'],\n",
    "                    'strike': parsed_info['strike'],\n",
    "                    'time_to_expire': delta_t\n",
    "                }\n",
    "                \n",
    "            else:\n",
    "                print(f\"期权代码 {option_code} 的数据不存在或为空\")\n",
    "                \n",
    "        except Exception as e:\n",
    "            print(f\"处理期权代码 {option_code} 时出错: {e}\")\n",
    "\n",
    "    # 将字典转换为DataFrame\n",
    "    df = pd.DataFrame.from_dict(option_dict, orient='index')\n",
    "    df.reset_index(inplace=True)\n",
    "    df.rename(columns={'index': 'option_code'}, inplace=True)\n",
    "\n",
    "    return df"
   ]
  },
  {
   "cell_type": "code",
   "execution_count": 35,
   "id": "d1950f7e",
   "metadata": {},
   "outputs": [
    {
     "data": {
      "application/vnd.microsoft.datawrangler.viewer.v0+json": {
       "columns": [
        {
         "name": "index",
         "rawType": "int64",
         "type": "integer"
        },
        {
         "name": "option_code",
         "rawType": "object",
         "type": "string"
        },
        {
         "name": "option_price",
         "rawType": "float64",
         "type": "float"
        },
        {
         "name": "future_price",
         "rawType": "float64",
         "type": "float"
        },
        {
         "name": "option_type",
         "rawType": "object",
         "type": "string"
        },
        {
         "name": "strike",
         "rawType": "int64",
         "type": "integer"
        },
        {
         "name": "time_to_expire",
         "rawType": "float64",
         "type": "float"
        }
       ],
       "ref": "80a30114-8319-45c2-8e14-2772a02f4816",
       "rows": [
        [
         "0",
         "jd2508-C-3150.DF",
         "418.0",
         "3568.0",
         "call",
         "3150",
         "0.0410958904109589"
        ],
        [
         "1",
         "jd2508-C-3200.DF",
         "369.0",
         "3568.0",
         "call",
         "3200",
         "0.0410958904109589"
        ],
        [
         "2",
         "jd2508-C-3250.DF",
         "320.0",
         "3568.0",
         "call",
         "3250",
         "0.0410958904109589"
        ],
        [
         "3",
         "jd2508-C-3300.DF",
         "273.0",
         "3568.0",
         "call",
         "3300",
         "0.0410958904109589"
        ],
        [
         "4",
         "jd2508-C-3350.DF",
         "227.5",
         "3568.0",
         "call",
         "3350",
         "0.0410958904109589"
        ],
        [
         "5",
         "jd2508-C-3400.DF",
         "185.0",
         "3568.0",
         "call",
         "3400",
         "0.0410958904109589"
        ],
        [
         "6",
         "jd2508-C-3450.DF",
         "146.5",
         "3568.0",
         "call",
         "3450",
         "0.0410958904109589"
        ],
        [
         "7",
         "jd2508-C-3500.DF",
         "112.5",
         "3568.0",
         "call",
         "3500",
         "0.0410958904109589"
        ],
        [
         "8",
         "jd2508-C-3550.DF",
         "83.0",
         "3568.0",
         "call",
         "3550",
         "0.0410958904109589"
        ],
        [
         "9",
         "jd2508-C-3600.DF",
         "59.5",
         "3568.0",
         "call",
         "3600",
         "0.0410958904109589"
        ],
        [
         "10",
         "jd2508-C-3650.DF",
         "41.0",
         "3568.0",
         "call",
         "3650",
         "0.0410958904109589"
        ],
        [
         "11",
         "jd2508-C-3700.DF",
         "27.0",
         "3568.0",
         "call",
         "3700",
         "0.0410958904109589"
        ],
        [
         "12",
         "jd2508-C-3750.DF",
         "17.0",
         "3568.0",
         "call",
         "3750",
         "0.0410958904109589"
        ],
        [
         "13",
         "jd2508-C-3800.DF",
         "10.5",
         "3568.0",
         "call",
         "3800",
         "0.0410958904109589"
        ],
        [
         "14",
         "jd2508-C-3850.DF",
         "6.0",
         "3568.0",
         "call",
         "3850",
         "0.0410958904109589"
        ],
        [
         "15",
         "jd2508-C-3900.DF",
         "3.5",
         "3568.0",
         "call",
         "3900",
         "0.0410958904109589"
        ],
        [
         "16",
         "jd2508-C-3950.DF",
         "1.5",
         "3568.0",
         "call",
         "3950",
         "0.0410958904109589"
        ],
        [
         "17",
         "jd2508-C-4000.DF",
         "0.5",
         "3568.0",
         "call",
         "4000",
         "0.0410958904109589"
        ],
        [
         "18",
         "jd2508-C-4100.DF",
         "0.5",
         "3568.0",
         "call",
         "4100",
         "0.0410958904109589"
        ],
        [
         "19",
         "jd2508-C-4200.DF",
         "0.5",
         "3568.0",
         "call",
         "4200",
         "0.0410958904109589"
        ],
        [
         "20",
         "jd2508-C-4300.DF",
         "0.5",
         "3568.0",
         "call",
         "4300",
         "0.0410958904109589"
        ],
        [
         "21",
         "jd2508-C-4400.DF",
         "0.5",
         "3568.0",
         "call",
         "4400",
         "0.0410958904109589"
        ],
        [
         "22",
         "jd2508-C-4600.DF",
         "0.5",
         "3568.0",
         "call",
         "4600",
         "0.0410958904109589"
        ],
        [
         "23",
         "jd2508-P-3150.DF",
         "0.5",
         "3568.0",
         "put",
         "3150",
         "0.0410958904109589"
        ],
        [
         "24",
         "jd2508-P-3200.DF",
         "1.0",
         "3568.0",
         "put",
         "3200",
         "0.0410958904109589"
        ],
        [
         "25",
         "jd2508-P-3250.DF",
         "2.5",
         "3568.0",
         "put",
         "3250",
         "0.0410958904109589"
        ],
        [
         "26",
         "jd2508-P-3300.DF",
         "5.0",
         "3568.0",
         "put",
         "3300",
         "0.0410958904109589"
        ],
        [
         "27",
         "jd2508-P-3350.DF",
         "9.5",
         "3568.0",
         "put",
         "3350",
         "0.0410958904109589"
        ],
        [
         "28",
         "jd2508-P-3400.DF",
         "17.0",
         "3568.0",
         "put",
         "3400",
         "0.0410958904109589"
        ],
        [
         "29",
         "jd2508-P-3450.DF",
         "28.5",
         "3568.0",
         "put",
         "3450",
         "0.0410958904109589"
        ],
        [
         "30",
         "jd2508-P-3500.DF",
         "44.5",
         "3568.0",
         "put",
         "3500",
         "0.0410958904109589"
        ],
        [
         "31",
         "jd2508-P-3550.DF",
         "65.0",
         "3568.0",
         "put",
         "3550",
         "0.0410958904109589"
        ],
        [
         "32",
         "jd2508-P-3600.DF",
         "91.5",
         "3568.0",
         "put",
         "3600",
         "0.0410958904109589"
        ],
        [
         "33",
         "jd2508-P-3650.DF",
         "123.0",
         "3568.0",
         "put",
         "3650",
         "0.0410958904109589"
        ],
        [
         "34",
         "jd2508-P-3700.DF",
         "159.0",
         "3568.0",
         "put",
         "3700",
         "0.0410958904109589"
        ],
        [
         "35",
         "jd2508-P-3750.DF",
         "199.0",
         "3568.0",
         "put",
         "3750",
         "0.0410958904109589"
        ],
        [
         "36",
         "jd2508-P-3800.DF",
         "242.5",
         "3568.0",
         "put",
         "3800",
         "0.0410958904109589"
        ],
        [
         "37",
         "jd2508-P-3850.DF",
         "288.0",
         "3568.0",
         "put",
         "3850",
         "0.0410958904109589"
        ],
        [
         "38",
         "jd2508-P-3900.DF",
         "335.5",
         "3568.0",
         "put",
         "3900",
         "0.0410958904109589"
        ],
        [
         "39",
         "jd2508-P-3950.DF",
         "384.0",
         "3568.0",
         "put",
         "3950",
         "0.0410958904109589"
        ],
        [
         "40",
         "jd2508-P-4000.DF",
         "433.0",
         "3568.0",
         "put",
         "4000",
         "0.0410958904109589"
        ],
        [
         "41",
         "jd2508-P-4100.DF",
         "532.0",
         "3568.0",
         "put",
         "4100",
         "0.0410958904109589"
        ],
        [
         "42",
         "jd2508-P-4200.DF",
         "632.0",
         "3568.0",
         "put",
         "4200",
         "0.0410958904109589"
        ],
        [
         "43",
         "jd2508-P-4300.DF",
         "732.0",
         "3568.0",
         "put",
         "4300",
         "0.0410958904109589"
        ],
        [
         "44",
         "jd2508-P-4400.DF",
         "832.0",
         "3568.0",
         "put",
         "4400",
         "0.0410958904109589"
        ],
        [
         "45",
         "jd2508-P-4600.DF",
         "1032.0",
         "3568.0",
         "put",
         "4600",
         "0.0410958904109589"
        ],
        [
         "46",
         "jd2509-C-3250.DF",
         "447.0",
         "3690.0",
         "call",
         "3250",
         "0.13150684931506848"
        ],
        [
         "47",
         "jd2509-C-3300.DF",
         "401.0",
         "3690.0",
         "call",
         "3300",
         "0.13150684931506848"
        ],
        [
         "48",
         "jd2509-C-3350.DF",
         "356.5",
         "3690.0",
         "call",
         "3350",
         "0.13150684931506848"
        ],
        [
         "49",
         "jd2509-C-3400.DF",
         "314.5",
         "3690.0",
         "call",
         "3400",
         "0.13150684931506848"
        ]
       ],
       "shape": {
        "columns": 6,
        "rows": 88
       }
      },
      "text/html": [
       "<div>\n",
       "<style scoped>\n",
       "    .dataframe tbody tr th:only-of-type {\n",
       "        vertical-align: middle;\n",
       "    }\n",
       "\n",
       "    .dataframe tbody tr th {\n",
       "        vertical-align: top;\n",
       "    }\n",
       "\n",
       "    .dataframe thead th {\n",
       "        text-align: right;\n",
       "    }\n",
       "</style>\n",
       "<table border=\"1\" class=\"dataframe\">\n",
       "  <thead>\n",
       "    <tr style=\"text-align: right;\">\n",
       "      <th></th>\n",
       "      <th>option_code</th>\n",
       "      <th>option_price</th>\n",
       "      <th>future_price</th>\n",
       "      <th>option_type</th>\n",
       "      <th>strike</th>\n",
       "      <th>time_to_expire</th>\n",
       "    </tr>\n",
       "  </thead>\n",
       "  <tbody>\n",
       "    <tr>\n",
       "      <th>0</th>\n",
       "      <td>jd2508-C-3150.DF</td>\n",
       "      <td>418.0</td>\n",
       "      <td>3568.0</td>\n",
       "      <td>call</td>\n",
       "      <td>3150</td>\n",
       "      <td>0.041096</td>\n",
       "    </tr>\n",
       "    <tr>\n",
       "      <th>1</th>\n",
       "      <td>jd2508-C-3200.DF</td>\n",
       "      <td>369.0</td>\n",
       "      <td>3568.0</td>\n",
       "      <td>call</td>\n",
       "      <td>3200</td>\n",
       "      <td>0.041096</td>\n",
       "    </tr>\n",
       "    <tr>\n",
       "      <th>2</th>\n",
       "      <td>jd2508-C-3250.DF</td>\n",
       "      <td>320.0</td>\n",
       "      <td>3568.0</td>\n",
       "      <td>call</td>\n",
       "      <td>3250</td>\n",
       "      <td>0.041096</td>\n",
       "    </tr>\n",
       "    <tr>\n",
       "      <th>3</th>\n",
       "      <td>jd2508-C-3300.DF</td>\n",
       "      <td>273.0</td>\n",
       "      <td>3568.0</td>\n",
       "      <td>call</td>\n",
       "      <td>3300</td>\n",
       "      <td>0.041096</td>\n",
       "    </tr>\n",
       "    <tr>\n",
       "      <th>4</th>\n",
       "      <td>jd2508-C-3350.DF</td>\n",
       "      <td>227.5</td>\n",
       "      <td>3568.0</td>\n",
       "      <td>call</td>\n",
       "      <td>3350</td>\n",
       "      <td>0.041096</td>\n",
       "    </tr>\n",
       "    <tr>\n",
       "      <th>...</th>\n",
       "      <td>...</td>\n",
       "      <td>...</td>\n",
       "      <td>...</td>\n",
       "      <td>...</td>\n",
       "      <td>...</td>\n",
       "      <td>...</td>\n",
       "    </tr>\n",
       "    <tr>\n",
       "      <th>83</th>\n",
       "      <td>jd2509-P-4100.DF</td>\n",
       "      <td>425.0</td>\n",
       "      <td>3690.0</td>\n",
       "      <td>put</td>\n",
       "      <td>4100</td>\n",
       "      <td>0.131507</td>\n",
       "    </tr>\n",
       "    <tr>\n",
       "      <th>84</th>\n",
       "      <td>jd2509-P-4200.DF</td>\n",
       "      <td>517.5</td>\n",
       "      <td>3690.0</td>\n",
       "      <td>put</td>\n",
       "      <td>4200</td>\n",
       "      <td>0.131507</td>\n",
       "    </tr>\n",
       "    <tr>\n",
       "      <th>85</th>\n",
       "      <td>jd2509-P-4300.DF</td>\n",
       "      <td>613.5</td>\n",
       "      <td>3690.0</td>\n",
       "      <td>put</td>\n",
       "      <td>4300</td>\n",
       "      <td>0.131507</td>\n",
       "    </tr>\n",
       "    <tr>\n",
       "      <th>86</th>\n",
       "      <td>jd2509-P-4400.DF</td>\n",
       "      <td>711.5</td>\n",
       "      <td>3690.0</td>\n",
       "      <td>put</td>\n",
       "      <td>4400</td>\n",
       "      <td>0.131507</td>\n",
       "    </tr>\n",
       "    <tr>\n",
       "      <th>87</th>\n",
       "      <td>jd2509-P-4600.DF</td>\n",
       "      <td>910.0</td>\n",
       "      <td>3690.0</td>\n",
       "      <td>put</td>\n",
       "      <td>4600</td>\n",
       "      <td>0.131507</td>\n",
       "    </tr>\n",
       "  </tbody>\n",
       "</table>\n",
       "<p>88 rows × 6 columns</p>\n",
       "</div>"
      ],
      "text/plain": [
       "         option_code  option_price  future_price option_type  strike  \\\n",
       "0   jd2508-C-3150.DF         418.0        3568.0        call    3150   \n",
       "1   jd2508-C-3200.DF         369.0        3568.0        call    3200   \n",
       "2   jd2508-C-3250.DF         320.0        3568.0        call    3250   \n",
       "3   jd2508-C-3300.DF         273.0        3568.0        call    3300   \n",
       "4   jd2508-C-3350.DF         227.5        3568.0        call    3350   \n",
       "..               ...           ...           ...         ...     ...   \n",
       "83  jd2509-P-4100.DF         425.0        3690.0         put    4100   \n",
       "84  jd2509-P-4200.DF         517.5        3690.0         put    4200   \n",
       "85  jd2509-P-4300.DF         613.5        3690.0         put    4300   \n",
       "86  jd2509-P-4400.DF         711.5        3690.0         put    4400   \n",
       "87  jd2509-P-4600.DF         910.0        3690.0         put    4600   \n",
       "\n",
       "    time_to_expire  \n",
       "0         0.041096  \n",
       "1         0.041096  \n",
       "2         0.041096  \n",
       "3         0.041096  \n",
       "4         0.041096  \n",
       "..             ...  \n",
       "83        0.131507  \n",
       "84        0.131507  \n",
       "85        0.131507  \n",
       "86        0.131507  \n",
       "87        0.131507  \n",
       "\n",
       "[88 rows x 6 columns]"
      ]
     },
     "execution_count": 35,
     "metadata": {},
     "output_type": "execute_result"
    }
   ],
   "source": [
    "get_option_data(future_list = future_list, date_str = '20250701')"
   ]
  },
  {
   "cell_type": "code",
   "execution_count": null,
   "id": "d0952026",
   "metadata": {},
   "outputs": [],
   "source": []
  },
  {
   "cell_type": "code",
   "execution_count": null,
   "id": "aa61feaa",
   "metadata": {},
   "outputs": [],
   "source": [
    "option_dict = {}\n",
    "\n",
    "for option_code in option_list:\n",
    "    try:\n",
    "        # 获取期权的结算价格\n",
    "        if option_code in option_data and not option_data[option_code].empty:\n",
    "            settlement_price = option_data[option_code]['settelementPrice'].iloc[-1]  # 获取最新的结算价\n",
    "            \n",
    "            expire_date_str = xtdata.get_option_detail_data(option_code)['ExpireDate']\n",
    "            expire_date = datetime.strptime(expire_date_str, '%Y%m%d')\n",
    "            today = datetime.now()\n",
    "            delta_t = (expire_date - today).days / 365.0\n",
    "\n",
    "            future_code = xtdata.get_option_detail_data('jd2508-C-3150.DF')['OptUndlCodeFull']\n",
    "            future_price = get_single_market_data(code=future_code, period='1d', start_time='20250630', end_time='20250630', count=-1)\n",
    "\n",
    "            # 解析期权代码\n",
    "            parsed_info = parse_option_code(option_code)\n",
    "            \n",
    "            # 创建该期权的字典\n",
    "            option_dict[option_code] = {\n",
    "                'price': settlement_price,\n",
    "                'option_type': parsed_info['option_type'],\n",
    "                'strike': parsed_info['strike'],\n",
    "                'time_to_expire': delta_t\n",
    "            }\n",
    "            \n",
    "        else:\n",
    "            print(f\"期权代码 {option_code} 的数据不存在或为空\")\n",
    "            \n",
    "    except Exception as e:\n",
    "        print(f\"处理期权代码 {option_code} 时出错: {e}\")"
   ]
  },
  {
   "cell_type": "code",
   "execution_count": 7,
   "id": "fc11f325",
   "metadata": {},
   "outputs": [],
   "source": [
    "df = pd.DataFrame.from_dict(option_dict, orient='index')\n",
    "df.reset_index(inplace=True)\n",
    "df.rename(columns={'index': 'option_code'}, inplace=True)\n",
    "df.to_csv('jd.csv', index=False, encoding='utf-8-sig')"
   ]
  },
  {
   "cell_type": "code",
   "execution_count": 8,
   "id": "a077827d",
   "metadata": {},
   "outputs": [
    {
     "data": {
      "text/plain": [
       "['jd2508-C-3150.DF',\n",
       " 'jd2508-C-3200.DF',\n",
       " 'jd2508-C-3250.DF',\n",
       " 'jd2508-C-3300.DF',\n",
       " 'jd2508-C-3350.DF',\n",
       " 'jd2508-C-3400.DF',\n",
       " 'jd2508-C-3450.DF',\n",
       " 'jd2508-C-3500.DF',\n",
       " 'jd2508-C-3550.DF',\n",
       " 'jd2508-C-3600.DF',\n",
       " 'jd2508-C-3650.DF',\n",
       " 'jd2508-C-3700.DF',\n",
       " 'jd2508-C-3750.DF',\n",
       " 'jd2508-C-3800.DF',\n",
       " 'jd2508-C-3850.DF',\n",
       " 'jd2508-C-3900.DF',\n",
       " 'jd2508-C-3950.DF',\n",
       " 'jd2508-C-4000.DF',\n",
       " 'jd2508-C-4100.DF',\n",
       " 'jd2508-C-4200.DF',\n",
       " 'jd2508-C-4300.DF',\n",
       " 'jd2508-C-4400.DF',\n",
       " 'jd2508-C-4600.DF',\n",
       " 'jd2508-P-3150.DF',\n",
       " 'jd2508-P-3200.DF',\n",
       " 'jd2508-P-3250.DF',\n",
       " 'jd2508-P-3300.DF',\n",
       " 'jd2508-P-3350.DF',\n",
       " 'jd2508-P-3400.DF',\n",
       " 'jd2508-P-3450.DF',\n",
       " 'jd2508-P-3500.DF',\n",
       " 'jd2508-P-3550.DF',\n",
       " 'jd2508-P-3600.DF',\n",
       " 'jd2508-P-3650.DF',\n",
       " 'jd2508-P-3700.DF',\n",
       " 'jd2508-P-3750.DF',\n",
       " 'jd2508-P-3800.DF',\n",
       " 'jd2508-P-3850.DF',\n",
       " 'jd2508-P-3900.DF',\n",
       " 'jd2508-P-3950.DF',\n",
       " 'jd2508-P-4000.DF',\n",
       " 'jd2508-P-4100.DF',\n",
       " 'jd2508-P-4200.DF',\n",
       " 'jd2508-P-4300.DF',\n",
       " 'jd2508-P-4400.DF',\n",
       " 'jd2508-P-4600.DF',\n",
       " 'jd2509-C-3250.DF',\n",
       " 'jd2509-C-3300.DF',\n",
       " 'jd2509-C-3350.DF',\n",
       " 'jd2509-C-3400.DF',\n",
       " 'jd2509-C-3450.DF',\n",
       " 'jd2509-C-3500.DF',\n",
       " 'jd2509-C-3550.DF',\n",
       " 'jd2509-C-3600.DF',\n",
       " 'jd2509-C-3650.DF',\n",
       " 'jd2509-C-3700.DF',\n",
       " 'jd2509-C-3750.DF',\n",
       " 'jd2509-C-3800.DF',\n",
       " 'jd2509-C-3850.DF',\n",
       " 'jd2509-C-3900.DF',\n",
       " 'jd2509-C-3950.DF',\n",
       " 'jd2509-C-4000.DF',\n",
       " 'jd2509-C-4100.DF',\n",
       " 'jd2509-C-4200.DF',\n",
       " 'jd2509-C-4300.DF',\n",
       " 'jd2509-C-4400.DF',\n",
       " 'jd2509-C-4600.DF',\n",
       " 'jd2509-P-3250.DF',\n",
       " 'jd2509-P-3300.DF',\n",
       " 'jd2509-P-3350.DF',\n",
       " 'jd2509-P-3400.DF',\n",
       " 'jd2509-P-3450.DF',\n",
       " 'jd2509-P-3500.DF',\n",
       " 'jd2509-P-3550.DF',\n",
       " 'jd2509-P-3600.DF',\n",
       " 'jd2509-P-3650.DF',\n",
       " 'jd2509-P-3700.DF',\n",
       " 'jd2509-P-3750.DF',\n",
       " 'jd2509-P-3800.DF',\n",
       " 'jd2509-P-3850.DF',\n",
       " 'jd2509-P-3900.DF',\n",
       " 'jd2509-P-3950.DF',\n",
       " 'jd2509-P-4000.DF',\n",
       " 'jd2509-P-4100.DF',\n",
       " 'jd2509-P-4200.DF',\n",
       " 'jd2509-P-4300.DF',\n",
       " 'jd2509-P-4400.DF',\n",
       " 'jd2509-P-4600.DF']"
      ]
     },
     "execution_count": 8,
     "metadata": {},
     "output_type": "execute_result"
    }
   ],
   "source": [
    "option_list"
   ]
  },
  {
   "cell_type": "code",
   "execution_count": null,
   "id": "b75af8e1",
   "metadata": {},
   "outputs": [
    {
     "data": {
      "text/plain": [
       "'jd2508.DF'"
      ]
     },
     "execution_count": 9,
     "metadata": {},
     "output_type": "execute_result"
    }
   ],
   "source": []
  },
  {
   "cell_type": "code",
   "execution_count": null,
   "id": "419dd1fb",
   "metadata": {},
   "outputs": [
    {
     "data": {
      "text/plain": [
       "{'jd2509.DF': Empty DataFrame\n",
       " Columns: [time, open, high, low, close, volume, amount, settelementPrice, openInterest, preClose, suspendFlag]\n",
       " Index: []}"
      ]
     },
     "execution_count": 15,
     "metadata": {},
     "output_type": "execute_result"
    }
   ],
   "source": []
  },
  {
   "cell_type": "code",
   "execution_count": 14,
   "id": "e3321a84",
   "metadata": {},
   "outputs": [],
   "source": [
    "xtdata.download_history_data('jd2509.DF', '1d', '20250630', '20250630') "
   ]
  },
  {
   "cell_type": "code",
   "execution_count": null,
   "id": "b8ac3ee9",
   "metadata": {},
   "outputs": [
    {
     "data": {
      "text/plain": [
       "{'rb2401.SF': Empty DataFrame\n",
       " Columns: [time, open, high, low, close, volume, amount, settelementPrice, openInterest, preClose, suspendFlag]\n",
       " Index: []}"
      ]
     },
     "execution_count": 16,
     "metadata": {},
     "output_type": "execute_result"
    }
   ],
   "source": []
  },
  {
   "cell_type": "code",
   "execution_count": null,
   "id": "c331347c",
   "metadata": {},
   "outputs": [],
   "source": []
  },
  {
   "cell_type": "code",
   "execution_count": null,
   "id": "d7f97211",
   "metadata": {},
   "outputs": [
    {
     "data": {
      "application/vnd.microsoft.datawrangler.viewer.v0+json": {
       "columns": [
        {
         "name": "index",
         "rawType": "object",
         "type": "string"
        },
        {
         "name": "time",
         "rawType": "int64",
         "type": "integer"
        },
        {
         "name": "open",
         "rawType": "float64",
         "type": "float"
        },
        {
         "name": "high",
         "rawType": "float64",
         "type": "float"
        },
        {
         "name": "low",
         "rawType": "float64",
         "type": "float"
        },
        {
         "name": "close",
         "rawType": "float64",
         "type": "float"
        },
        {
         "name": "volume",
         "rawType": "int64",
         "type": "integer"
        },
        {
         "name": "amount",
         "rawType": "float64",
         "type": "float"
        },
        {
         "name": "settelementPrice",
         "rawType": "float64",
         "type": "float"
        },
        {
         "name": "openInterest",
         "rawType": "int64",
         "type": "integer"
        },
        {
         "name": "preClose",
         "rawType": "float64",
         "type": "float"
        },
        {
         "name": "suspendFlag",
         "rawType": "int32",
         "type": "integer"
        }
       ],
       "ref": "cb27670a-3388-4b7a-9a05-01a5cc01a533",
       "rows": [
        [
         "20250630",
         "1751212800000",
         "3654.0",
         "3694.0",
         "3644.0",
         "3689.0",
         "74788",
         "2746993610.0",
         "3673.0",
         "165823",
         "3673.0",
         "0"
        ]
       ],
       "shape": {
        "columns": 11,
        "rows": 1
       }
      },
      "text/html": [
       "<div>\n",
       "<style scoped>\n",
       "    .dataframe tbody tr th:only-of-type {\n",
       "        vertical-align: middle;\n",
       "    }\n",
       "\n",
       "    .dataframe tbody tr th {\n",
       "        vertical-align: top;\n",
       "    }\n",
       "\n",
       "    .dataframe thead th {\n",
       "        text-align: right;\n",
       "    }\n",
       "</style>\n",
       "<table border=\"1\" class=\"dataframe\">\n",
       "  <thead>\n",
       "    <tr style=\"text-align: right;\">\n",
       "      <th></th>\n",
       "      <th>time</th>\n",
       "      <th>open</th>\n",
       "      <th>high</th>\n",
       "      <th>low</th>\n",
       "      <th>close</th>\n",
       "      <th>volume</th>\n",
       "      <th>amount</th>\n",
       "      <th>settelementPrice</th>\n",
       "      <th>openInterest</th>\n",
       "      <th>preClose</th>\n",
       "      <th>suspendFlag</th>\n",
       "    </tr>\n",
       "  </thead>\n",
       "  <tbody>\n",
       "    <tr>\n",
       "      <th>20250630</th>\n",
       "      <td>1751212800000</td>\n",
       "      <td>3654.0</td>\n",
       "      <td>3694.0</td>\n",
       "      <td>3644.0</td>\n",
       "      <td>3689.0</td>\n",
       "      <td>74788</td>\n",
       "      <td>2.746994e+09</td>\n",
       "      <td>3673.0</td>\n",
       "      <td>165823</td>\n",
       "      <td>3673.0</td>\n",
       "      <td>0</td>\n",
       "    </tr>\n",
       "  </tbody>\n",
       "</table>\n",
       "</div>"
      ],
      "text/plain": [
       "                   time    open    high     low   close  volume        amount  \\\n",
       "20250630  1751212800000  3654.0  3694.0  3644.0  3689.0   74788  2.746994e+09   \n",
       "\n",
       "          settelementPrice  openInterest  preClose  suspendFlag  \n",
       "20250630            3673.0        165823    3673.0            0  "
      ]
     },
     "execution_count": 28,
     "metadata": {},
     "output_type": "execute_result"
    }
   ],
   "source": []
  },
  {
   "cell_type": "code",
   "execution_count": null,
   "id": "a381512a",
   "metadata": {},
   "outputs": [],
   "source": []
  }
 ],
 "metadata": {
  "kernelspec": {
   "display_name": "Python [conda env:oye]",
   "language": "python",
   "name": "oye"
  },
  "language_info": {
   "codemirror_mode": {
    "name": "ipython",
    "version": 3
   },
   "file_extension": ".py",
   "mimetype": "text/x-python",
   "name": "python",
   "nbconvert_exporter": "python",
   "pygments_lexer": "ipython3",
   "version": "3.11.9"
  }
 },
 "nbformat": 4,
 "nbformat_minor": 5
}
