{
 "cells": [
  {
   "cell_type": "code",
   "execution_count": 24,
   "id": "704191be",
   "metadata": {},
   "outputs": [],
   "source": [
    "import numpy as np\n",
    "from scipy.stats import norm\n",
    "from scipy.optimize import brentq\n",
    "from datetime import datetime, date\n",
    "import pandas as pd\n",
    "import matplotlib.pyplot as plt\n",
    "import QuantLib as ql\n",
    "from scipy.optimize import minimize, differential_evolution\n",
    "import numpy as np"
   ]
  },
  {
   "cell_type": "code",
   "execution_count": 2,
   "id": "98dd04d0",
   "metadata": {},
   "outputs": [],
   "source": [
    "def calc_natural_days(start_date, end_date):\n",
    "    \n",
    "    # 将字符串转换为datetime对象\n",
    "    start_dt = datetime.strptime(start_date, '%Y%m%d')\n",
    "    end_dt = datetime.strptime(end_date, '%Y%m%d')\n",
    "    \n",
    "    # 计算日期差值\n",
    "    days_diff = (end_dt - start_dt).days\n",
    "    \n",
    "    return days_diff"
   ]
  },
  {
   "cell_type": "code",
   "execution_count": 3,
   "id": "a55fe367",
   "metadata": {},
   "outputs": [],
   "source": [
    "def black76_price(F, K, T, r, sigma, option_type='call'):\n",
    "    d1 = (np.log(F / K) + 0.5 * sigma**2 * T) / (sigma * np.sqrt(T))\n",
    "    d2 = d1 - sigma * np.sqrt(T)\n",
    "    if option_type == 'call':\n",
    "        return np.exp(-r * T) * (F * norm.cdf(d1) - K * norm.cdf(d2))\n",
    "    elif option_type == 'put':\n",
    "        return np.exp(-r * T) * (K * norm.cdf(-d2) - F * norm.cdf(-d1))\n",
    "    else:\n",
    "        raise ValueError(\"option_type must be 'call' or 'put'\")"
   ]
  },
  {
   "cell_type": "code",
   "execution_count": 4,
   "id": "5fa3f4a0",
   "metadata": {},
   "outputs": [],
   "source": [
    "def black76_iv(F, K, T, r, market_price, option_type='call'):\n",
    "    \"\"\"使用Brent法计算隐含波动率\"\"\"\n",
    "    # 第一步：校验option_type\n",
    "    if option_type not in ['call', 'put']:\n",
    "        raise ValueError(\"option_type必须是'call'或'put'\")\n",
    "    \n",
    "    # 定义方程：模型价格 - 市场价格 = 0\n",
    "    def equation(sigma):\n",
    "        return black76_price(F, K, T, r, sigma, option_type) - market_price\n",
    "    \n",
    "    # 检查市场价格的合理性\n",
    "    intrinsic_value = max(F - K, 0) if option_type == 'call' else max(K - F, 0)\n",
    "    if market_price < intrinsic_value:\n",
    "        raise ValueError(f\"{option_type}价格低于内在价值（无套利条件不成立）\")\n",
    "    \n",
    "    # 设置波动率搜索范围（0.1%到500%）\n",
    "    sigma_min, sigma_max = 0.001, 5.0\n",
    "    \n",
    "    # 调用Brent法求解\n",
    "    try:\n",
    "        iv = brentq(equation, a=sigma_min, b=sigma_max, rtol=1e-6)\n",
    "        return iv\n",
    "    except ValueError:\n",
    "        raise ValueError(f\"未找到解，请检查输入参数或扩大搜索区间\")"
   ]
  },
  {
   "cell_type": "code",
   "execution_count": 5,
   "id": "6e2c3321",
   "metadata": {},
   "outputs": [],
   "source": [
    "def predict_PnL(F, K, T, r, market_price, option_type):\n",
    "    \"\"\"预测期权的PnL\"\"\"\n",
    "    iv = black76_iv(F, K, T, r, market_price, option_type)\n",
    "\n",
    "    price_changes = np.linspace(-0.1, 0.1, 100)  # 价格变化范围\n",
    "    pnls = []\n",
    "    \n",
    "    for change in price_changes:\n",
    "        # 计算新的期货价格\n",
    "        new_F = F * (1 + change)\n",
    "        \n",
    "        # 计算新价格下的期权理论价格（使用当前IV）\n",
    "        predicted_price = black76_price(new_F, K, T, r, iv, option_type)\n",
    "        \n",
    "        # 计算PnL\n",
    "        pnl = (predicted_price - market_price) / market_price * 100 \n",
    "        pnls.append(pnl)\n",
    "    \n",
    "    return price_changes, np.array(pnls)"
   ]
  },
  {
   "cell_type": "code",
   "execution_count": 6,
   "id": "6764513f",
   "metadata": {},
   "outputs": [],
   "source": [
    "def plot_pnl_analysis(F, K, T, r, market_price, option_type):\n",
    "    \"\"\"\n",
    "    绘制期权PnL分析图\n",
    "    \"\"\"\n",
    "    # 计算PnL数据\n",
    "    price_changes, pnls = predict_PnL(F, K, T, r, market_price, option_type)\n",
    "    \n",
    "    # 创建图表\n",
    "    plt.figure(figsize=(10, 6))\n",
    "    plt.plot(price_changes * 100, pnls, 'b-', linewidth=2, label=f'{option_type.upper()} Option PnL')\n",
    "    \n",
    "    # 添加零线\n",
    "    plt.axhline(y=0, color='r', linestyle='--', alpha=0.7, label='Break-even')\n",
    "    plt.axvline(x=0, color='gray', linestyle='--', alpha=0.5)\n",
    "    \n",
    "    # 设置标签和标题\n",
    "    plt.xlabel('Change of underlying asset (%)', fontsize=12)\n",
    "    plt.ylabel('PnL (%)', fontsize=12)\n",
    "    plt.title(f'PnL\\nPrice: {F}, Strike: {K}, Time to Expiry: {T:.4f}years', fontsize=14)\n",
    "    plt.grid(True, alpha=0.3)\n",
    "    plt.legend()\n",
    "    \n",
    "    # 添加关键信息\n",
    "    current_iv = black76_iv(F, K, T, r, market_price, option_type)\n",
    "    plt.text(0.02, 0.98, f'IV: {current_iv*100:.2f}%\\nPrice: {market_price}', \n",
    "             transform=plt.gca().transAxes, verticalalignment='top',\n",
    "             bbox=dict(boxstyle='round', facecolor='wheat', alpha=0.8))\n",
    "    \n",
    "    plt.tight_layout()\n",
    "    plt.show()\n",
    "    \n",
    "    return price_changes, pnls"
   ]
  },
  {
   "cell_type": "code",
   "execution_count": 21,
   "id": "129cff15",
   "metadata": {},
   "outputs": [],
   "source": [
    "start_date = '20250630'\n",
    "end_date = '20250716'\n",
    "F = 3521.3\n",
    "K = 3500\n",
    "r = 0.02\n",
    "T = calc_natural_days(start_date, end_date) / 365\n",
    "market_price = 56.36\n",
    "option_type = 'put'   # 期权类型"
   ]
  },
  {
   "cell_type": "code",
   "execution_count": 22,
   "id": "d43b81aa",
   "metadata": {},
   "outputs": [
    {
     "data": {
      "image/png": "[encoded data removed]",
      "text/plain": [
       "<Figure size 1000x600 with 1 Axes>"
      ]
     },
     "metadata": {},
     "output_type": "display_data"
    }
   ],
   "source": [
    "price_changes, pnls = plot_pnl_analysis(F, K, T, r, market_price, option_type)"
   ]
  },
  {
   "cell_type": "code",
   "execution_count": 27,
   "id": "14c0df75",
   "metadata": {},
   "outputs": [
    {
     "data": {
      "text/plain": [
       "0.043835616438356165"
      ]
     },
     "execution_count": 27,
     "metadata": {},
     "output_type": "execute_result"
    }
   ],
   "source": [
    "T"
   ]
  },
  {
   "cell_type": "code",
   "execution_count": null,
   "id": "fd6bc84b",
   "metadata": {},
   "outputs": [],
   "source": []
  },
  {
   "cell_type": "code",
   "execution_count": 15,
   "id": "0c93b7a5",
   "metadata": {},
   "outputs": [],
   "source": [
    "def vg_fft_pricing_futures(F, K, T, r, sigma, nu, theta, option_type='put'):\n",
    "    \"\"\"\n",
    "    使用 FFT 方法计算基于期货的 VG 模型期权价格\n",
    "    \n",
    "    参数:\n",
    "    F: 期货价格 (Forward Price)\n",
    "    K: 行权价\n",
    "    T: 到期时间（年）\n",
    "    r: 无风险利率\n",
    "    sigma: VG 扩散波动率\n",
    "    nu: VG 方差率\n",
    "    theta: VG 漂移参数\n",
    "    option_type: 'call' 或 'put'\n",
    "    \"\"\"\n",
    "    \n",
    "    # 设置计算日期\n",
    "    today = ql.Date().todaysDate()\n",
    "    ql.Settings.instance().evaluationDate = today\n",
    "    \n",
    "    # 计算到期日\n",
    "    maturity_date = today + int(T * 365)\n",
    "    \n",
    "    # 创建期权 - 使用期货价格作为标的\n",
    "    if option_type.lower() == 'call':\n",
    "        payoff = ql.PlainVanillaPayoff(ql.Option.Call, K)\n",
    "    else:\n",
    "        payoff = ql.PlainVanillaPayoff(ql.Option.Put, K)\n",
    "    \n",
    "    exercise = ql.EuropeanExercise(maturity_date)\n",
    "    option = ql.VanillaOption(payoff, exercise)\n",
    "    \n",
    "    # 创建利率曲线\n",
    "    day_count = ql.Actual365Fixed()\n",
    "    risk_free_curve = ql.YieldTermStructureHandle(\n",
    "        ql.FlatForward(today, r, day_count)\n",
    "    )\n",
    "    \n",
    "    # 对于期货期权，股息率应该等于无风险利率\n",
    "    # 这样 F = S * exp((r-q)*T)，当 q=r 时，F = S，即期货价格就是当前\"现货\"价格\n",
    "    dividend_curve = ql.YieldTermStructureHandle(\n",
    "        ql.FlatForward(today, r, day_count)  # 股息率 = 无风险利率\n",
    "    )\n",
    "    \n",
    "    # 创建 VG 过程 - 使用期货价格作为\"现货\"价格\n",
    "    spot_handle = ql.QuoteHandle(ql.SimpleQuote(F))\n",
    "    vg_process = ql.VarianceGammaProcess(\n",
    "        spot_handle,\n",
    "        dividend_curve,  # q = r 用于期货\n",
    "        risk_free_curve,\n",
    "        sigma,\n",
    "        nu,\n",
    "        theta\n",
    "    )\n",
    "    \n",
    "    # 创建 FFT 引擎\n",
    "    fft_engine = ql.FFTVarianceGammaEngine(vg_process)\n",
    "    option.setPricingEngine(fft_engine)\n",
    "    \n",
    "    return option.NPV()"
   ]
  },
  {
   "cell_type": "code",
   "execution_count": 16,
   "id": "174efb6c",
   "metadata": {},
   "outputs": [
    {
     "data": {
      "text/plain": [
       "38.85423517845993"
      ]
     },
     "execution_count": 16,
     "metadata": {},
     "output_type": "execute_result"
    }
   ],
   "source": [
    "vg_fft_pricing_futures(F, K, T, r, 0.25, 0.1, -0.05, option_type='put')"
   ]
  },
  {
   "cell_type": "code",
   "execution_count": 25,
   "id": "7acb0717",
   "metadata": {},
   "outputs": [],
   "source": [
    "def calibrate_vg_multiple_options(option_data_list, F, r):\n",
    "    \"\"\"\n",
    "    使用多个期权价格联合校准 VG 参数\n",
    "    \n",
    "    option_data_list: 包含多个期权信息的列表\n",
    "    [{'K': 行权价, 'T': 到期时间, 'market_price': 市场价格, 'option_type': 'call'/'put'}, ...]\n",
    "    \"\"\"\n",
    "    \n",
    "    def objective_function(params):\n",
    "        \"\"\"目标函数：最小化所有期权的定价误差\"\"\"\n",
    "        sigma, nu, theta = params\n",
    "        \n",
    "        if sigma <= 0 or nu <= 0:\n",
    "            return 1e6\n",
    "        \n",
    "        total_error = 0\n",
    "        for option_data in option_data_list:\n",
    "            try:\n",
    "                K = option_data['K']\n",
    "                T = option_data['T'] \n",
    "                market_price = option_data['market_price']\n",
    "                option_type = option_data['option_type']\n",
    "                weight = option_data.get('weight', 1.0)  # 权重\n",
    "                \n",
    "                model_price = vg_fft_pricing_futures(F, K, T, r, sigma, nu, theta, option_type)\n",
    "                \n",
    "                # 相对误差平方（避免大价格期权占主导）\n",
    "                relative_error = (model_price - market_price) / market_price\n",
    "                total_error += weight * (relative_error ** 2)\n",
    "                \n",
    "            except:\n",
    "                return 1e6\n",
    "        \n",
    "        return total_error\n",
    "    \n",
    "    # 参数约束\n",
    "    bounds = [(0.01, 2.0), (0.001, 1.0), (-1.0, 1.0)]\n",
    "    \n",
    "    # 使用差分进化算法（适合多变量全局优化）\n",
    "    result = differential_evolution(objective_function, bounds, \n",
    "                                  maxiter=200, seed=42, workers=1)\n",
    "    \n",
    "    if not result.success:\n",
    "        raise ValueError(\"多期权校准失败\")\n",
    "    \n",
    "    sigma_opt, nu_opt, theta_opt = result.x\n",
    "    \n",
    "    # 验证每个期权的拟合效果\n",
    "    print(f\"=== 多期权联合校准结果 ===\")\n",
    "    print(f\"最优参数: σ={sigma_opt:.4f}, ν={nu_opt:.4f}, θ={theta_opt:.4f}\")\n",
    "    print(f\"总优化误差: {result.fun:.6f}\")\n",
    "    print()\n",
    "    \n",
    "    results = []\n",
    "    for i, option_data in enumerate(option_data_list):\n",
    "        K = option_data['K']\n",
    "        T = option_data['T']\n",
    "        market_price = option_data['market_price']\n",
    "        option_type = option_data['option_type']\n",
    "        \n",
    "        model_price = vg_fft_pricing_futures(F, K, T, r, sigma_opt, nu_opt, theta_opt, option_type)\n",
    "        abs_error = abs(model_price - market_price)\n",
    "        rel_error = abs_error / market_price * 100\n",
    "        \n",
    "        results.append({\n",
    "            'option_id': i+1,\n",
    "            'K': K, 'T': T, 'type': option_type,\n",
    "            'market_price': market_price,\n",
    "            'model_price': model_price,\n",
    "            'abs_error': abs_error,\n",
    "            'rel_error': rel_error\n",
    "        })\n",
    "        \n",
    "        print(f\"期权{i+1}: K={K}, T={T:.3f}, {option_type}\")\n",
    "        print(f\"  市场价格: {market_price:.4f}, 模型价格: {model_price:.4f}\")\n",
    "        print(f\"  误差: {abs_error:.4f} ({rel_error:.2f}%)\")\n",
    "    \n",
    "    return {\n",
    "        'sigma': sigma_opt,\n",
    "        'nu': nu_opt,\n",
    "        'theta': theta_opt,\n",
    "        'total_error': result.fun,\n",
    "        'individual_results': results\n",
    "    }"
   ]
  },
  {
   "cell_type": "code",
   "execution_count": null,
   "id": "403aaa56",
   "metadata": {},
   "outputs": [],
   "source": []
  }
 ],
 "metadata": {
  "kernelspec": {
   "display_name": "Python [conda env:oye]",
   "language": "python",
   "name": "oye"
  },
  "language_info": {
   "codemirror_mode": {
    "name": "ipython",
    "version": 3
   },
   "file_extension": ".py",
   "mimetype": "text/x-python",
   "name": "python",
   "nbconvert_exporter": "python",
   "pygments_lexer": "ipython3",
   "version": "3.11.9"
  }
 },
 "nbformat": 4,
 "nbformat_minor": 5
}
