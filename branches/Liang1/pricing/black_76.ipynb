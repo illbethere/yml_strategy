{
 "cells": [
  {
   "cell_type": "code",
   "execution_count": 10,
   "id": "5d780d61",
   "metadata": {},
   "outputs": [
    {
     "name": "stdout",
     "output_type": "stream",
     "text": [
      "xtquant250516.1.1已经发布,前往 http://dict.thinktrader.net/nativeApi/download_xtquant.html 查看更新说明\n",
      "\n"
     ]
    }
   ],
   "source": [
    "import numpy as np\n",
    "from scipy.stats import norm\n",
    "from scipy.optimize import brentq\n",
    "from datetime import datetime, date\n",
    "import pandas as pd\n",
    "from xtquant import xtdatacenter as xtdc\n",
    "from xtquant import xtdata\n",
    "\n",
    "xtdc.set_token('4065054877ce5724155dbc5bcba200381ce5eb35')\n",
    "xtdc.init()"
   ]
  },
  {
   "cell_type": "code",
   "execution_count": 13,
   "id": "37e7da0f",
   "metadata": {},
   "outputs": [
    {
     "data": {
      "text/plain": [
       "{'ExchangeID': 'CZCE',\n",
       " 'InstrumentID': 'TA509C4700',\n",
       " 'InstrumentName': 'TA509C4700',\n",
       " 'ProductID': 'TAC',\n",
       " 'ProductType': 2,\n",
       " 'OpenDate': '20241113',\n",
       " 'CreateDate': '20241113',\n",
       " 'ExpireDate': '20250813',\n",
       " 'PreClose': 165.0,\n",
       " 'SettlementPrice': 160.5,\n",
       " 'UpStopPrice': 494.5,\n",
       " 'DownStopPrice': 0.5,\n",
       " 'LongMarginRatio': 0.0,\n",
       " 'ShortMarginRatio': 0.0,\n",
       " 'PriceTick': 0.5,\n",
       " 'VolumeMultiple': 5,\n",
       " 'MaxMarketOrderVolume': 2,\n",
       " 'MinMarketOrderVolume': 1,\n",
       " 'MaxLimitOrderVolume': 100,\n",
       " 'MinLimitOrderVolume': 1,\n",
       " 'OptUnit': 5.0,\n",
       " 'MarginUnit': 1.7976931348623157e+308,\n",
       " 'OptUndlCode': 'TA2509',\n",
       " 'OptUndlMarket': 'ZF',\n",
       " 'OptUndlCodeFull': 'TA2509.ZF',\n",
       " 'OptExercisePrice': 4700.0,\n",
       " 'NeeqExeType': 2147483647,\n",
       " 'OptUndlRiskFreeRate': 0.016462,\n",
       " 'OptUndlHistoryRate': 0.2645948073603659,\n",
       " 'EndDelivDate': '20250813',\n",
       " 'optType': 'CALL',\n",
       " 'ProductCode': 'TA.ZF'}"
      ]
     },
     "execution_count": 13,
     "metadata": {},
     "output_type": "execute_result"
    }
   ],
   "source": [
    "xtdata.get_option_detail_data('TA2509C4700.ZF')"
   ]
  },
  {
   "cell_type": "code",
   "execution_count": 2,
   "id": "e721e36d",
   "metadata": {},
   "outputs": [],
   "source": [
    "def cal_trading_days(start_date, end_date):\n",
    "    \"\"\"\n",
    "    计算两个日期之间的交易日数量\n",
    "    \"\"\"\n",
    "    trading_calendar = pd.read_pickle('trading_calendar.pkl')\n",
    "    if isinstance(start_date, str):\n",
    "        start_date = start_date\n",
    "    elif isinstance(start_date, (datetime, date, pd.Timestamp)):\n",
    "        start_date = pd.to_datetime(start_date).strftime('%Y%m%d')\n",
    "\n",
    "    if isinstance(end_date, str):\n",
    "        end_date = end_date\n",
    "    elif isinstance(end_date, (datetime, date, pd.Timestamp)):\n",
    "        end_date = pd.to_datetime(end_date).strftime('%Y%m%d')\n",
    "    trading_days = trading_calendar[(trading_calendar[0] >= start_date) & (trading_calendar[0] <= end_date)]\n",
    "    return len(trading_days)"
   ]
  },
  {
   "cell_type": "code",
   "execution_count": 24,
   "id": "cb9c4b9a",
   "metadata": {},
   "outputs": [],
   "source": [
    "def calc_natural_days(start_date, end_date):\n",
    "    \n",
    "    # 将字符串转换为datetime对象\n",
    "    start_dt = datetime.strptime(start_date, '%Y%m%d')\n",
    "    end_dt = datetime.strptime(end_date, '%Y%m%d')\n",
    "    \n",
    "    # 计算日期差值\n",
    "    days_diff = (end_dt - start_dt).days\n",
    "    \n",
    "    return days_diff"
   ]
  },
  {
   "cell_type": "code",
   "execution_count": 3,
   "id": "ac26bd2e",
   "metadata": {},
   "outputs": [],
   "source": [
    "def black76_price(F, K, T, r, sigma, option_type='call'):\n",
    "    d1 = (np.log(F / K) + 0.5 * sigma**2 * T) / (sigma * np.sqrt(T))\n",
    "    d2 = d1 - sigma * np.sqrt(T)\n",
    "    if option_type == 'call':\n",
    "        return np.exp(-r * T) * (F * norm.cdf(d1) - K * norm.cdf(d2))\n",
    "    elif option_type == 'put':\n",
    "        return np.exp(-r * T) * (K * norm.cdf(-d2) - F * norm.cdf(-d1))\n",
    "    else:\n",
    "        raise ValueError(\"option_type must be 'call' or 'put'\")"
   ]
  },
  {
   "cell_type": "code",
   "execution_count": 4,
   "id": "41839c63",
   "metadata": {},
   "outputs": [],
   "source": [
    "def black76_iv(F, K, T, r, market_price, option_type='call'):\n",
    "    \"\"\"使用Brent法计算隐含波动率（严格校验option_type）\"\"\"\n",
    "    # 第一步：校验option_type\n",
    "    if option_type not in ['call', 'put']:\n",
    "        raise ValueError(\"option_type必须是'call'或'put'\")\n",
    "    \n",
    "    # 定义方程：模型价格 - 市场价格 = 0\n",
    "    def equation(sigma):\n",
    "        return black76_price(F, K, T, r, sigma, option_type) - market_price\n",
    "    \n",
    "    # 检查市场价格的合理性\n",
    "    intrinsic_value = max(F - K, 0) if option_type == 'call' else max(K - F, 0)\n",
    "    if market_price < intrinsic_value:\n",
    "        raise ValueError(f\"{option_type}价格低于内在价值（无套利条件不成立）\")\n",
    "    \n",
    "    # 设置波动率搜索范围（0.1%到500%）\n",
    "    sigma_min, sigma_max = 0.001, 5.0\n",
    "    \n",
    "    # 调用Brent法求解\n",
    "    try:\n",
    "        iv = brentq(equation, a=sigma_min, b=sigma_max, rtol=1e-6)\n",
    "        return iv\n",
    "    except ValueError:\n",
    "        raise ValueError(f\"未找到解，请检查输入参数或扩大搜索区间\")"
   ]
  },
  {
   "cell_type": "code",
   "execution_count": 53,
   "id": "50fafe1a",
   "metadata": {},
   "outputs": [],
   "source": [
    "start_date = '20250630'\n",
    "end_date = '20250813'\n",
    "F = 1724\n",
    "K = 1780\n",
    "r = 0.02\n",
    "market_price = 38.5"
   ]
  },
  {
   "cell_type": "code",
   "execution_count": 54,
   "id": "6c896d9d",
   "metadata": {},
   "outputs": [
    {
     "data": {
      "text/plain": [
       "0.2582789652940749"
      ]
     },
     "execution_count": 54,
     "metadata": {},
     "output_type": "execute_result"
    }
   ],
   "source": [
    "black76_iv(F=F, K=K, T = calc_natural_days(start_date, end_date) / 365, r=r, market_price=market_price, option_type='call')"
   ]
  },
  {
   "cell_type": "code",
   "execution_count": 55,
   "id": "27876516",
   "metadata": {},
   "outputs": [
    {
     "data": {
      "text/plain": [
       "0.2513386820438787"
      ]
     },
     "execution_count": 55,
     "metadata": {},
     "output_type": "execute_result"
    }
   ],
   "source": [
    "calc_implied_volatility(market_price = market_price, S = F, K = K, T = calc_natural_days(start_date, end_date) / 365, r = r, option_type='call')"
   ]
  },
  {
   "cell_type": "code",
   "execution_count": 56,
   "id": "b931b986",
   "metadata": {},
   "outputs": [
    {
     "data": {
      "text/plain": [
       "0.24784011862356428"
      ]
     },
     "execution_count": 56,
     "metadata": {},
     "output_type": "execute_result"
    }
   ],
   "source": [
    "black76_iv(F=F, K=K, T = cal_trading_days(start_date, end_date) / 252, r=r, market_price=market_price, option_type='call')"
   ]
  },
  {
   "cell_type": "code",
   "execution_count": 57,
   "id": "11e6c291",
   "metadata": {},
   "outputs": [
    {
     "data": {
      "text/plain": [
       "0.24060259657395086"
      ]
     },
     "execution_count": 57,
     "metadata": {},
     "output_type": "execute_result"
    }
   ],
   "source": [
    "calc_implied_volatility(market_price = market_price, S = F, K = K, T = cal_trading_days(start_date, end_date) / 252, r = r, option_type='call')"
   ]
  },
  {
   "cell_type": "code",
   "execution_count": null,
   "id": "ab0c0735",
   "metadata": {},
   "outputs": [],
   "source": []
  },
  {
   "cell_type": "code",
   "execution_count": null,
   "id": "35ac891b",
   "metadata": {},
   "outputs": [
    {
     "name": "stdout",
     "output_type": "stream",
     "text": [
      "当前看涨期权价格: 0.64\n",
      "上涨10%后期权价格: 5.70\n",
      "预期损益（PnL）: 5.06\n"
     ]
    }
   ],
   "source": [
    "# 当前参数\n",
    "F0 = 100     # 当前期货价格\n",
    "K = 105      # 行权价\n",
    "T = 30/365   # 30天到期\n",
    "r = 0.05     # 无风险利率\n",
    "sigma = 0.2  # 波动率\n",
    "\n",
    "# 当前看涨期权价格\n",
    "call_price = black76(F0, K, T, r, sigma, 'call')\n",
    "print(f\"当前看涨期权价格: {call_price:.2f}\")\n",
    "\n",
    "# 压力测试：期货价格上涨10%\n",
    "F_new = F0 * 1.10\n",
    "call_price_new = black76(F_new, K, T, r, sigma, 'call')\n",
    "pnl = call_price_new - call_price\n",
    "print(f\"上涨10%后期权价格: {call_price_new:.2f}\")\n",
    "print(f\"预期损益（PnL）: {pnl:.2f}\")"
   ]
  },
  {
   "cell_type": "code",
   "execution_count": 16,
   "id": "0b1d4888",
   "metadata": {},
   "outputs": [],
   "source": [
    "def BS_call(S, K, T, r, sigma):\n",
    "    d1 = (np.log(S / K) + (r + 0.5 * sigma ** 2) * T) / (sigma * np.sqrt(T))\n",
    "    d2 = d1 - sigma * np.sqrt(T)\n",
    "\n",
    "    call_price = S * norm.cdf(d1) - K * np.exp(-r * T) * norm.cdf(d2)\n",
    "\n",
    "    return call_price\n",
    "\n",
    "def BS_put(S, K, T, r, sigma):\n",
    "    d1 = (np.log(S / K) + (r + 0.5 * sigma ** 2) * T) / (sigma * np.sqrt(T))\n",
    "    d2 = d1 - sigma * np.sqrt(T)\n",
    "\n",
    "    put_price = K * np.exp(-r * T) * norm.cdf(-d2) - S * norm.cdf(-d1)\n",
    "\n",
    "    return put_price\n",
    "\n",
    "def calc_implied_volatility(market_price, S, K, T, r, option_type):\n",
    "    if option_type == 'call':\n",
    "        pricing_func = BS_call\n",
    "        instrinsic_value = max(S - K, 0)\n",
    "    else:\n",
    "        pricing_func = BS_put\n",
    "        instrinsic_value = max(K - S, 0)\n",
    "\n",
    "    if market_price <= instrinsic_value:\n",
    "        print(f\"市场价格 {market_price} 小于或等于内在价值 {instrinsic_value}，无法计算隐含波动率\")\n",
    "        return None\n",
    "    \n",
    "    def objective_function(sigma):\n",
    "        try:\n",
    "            theoretical_price = pricing_func(S, K, T, r, sigma)\n",
    "            return theoretical_price - market_price\n",
    "        except Exception as e:\n",
    "            print(f\"计算理论价格时出错: {e}\")\n",
    "            return float('inf')\n",
    "        \n",
    "    try:\n",
    "        sigma = brentq(objective_function, 0.001, 5.0,xtol = 1e-6,  maxiter=100)\n",
    "        return sigma\n",
    "    except Exception as e:\n",
    "        print(f\"计算隐含波动率时出错: {e}\")\n",
    "        return None"
   ]
  },
  {
   "cell_type": "code",
   "execution_count": 54,
   "id": "4bcc95f0",
   "metadata": {},
   "outputs": [
    {
     "data": {
      "text/plain": [
       "0.17201096344375894"
      ]
     },
     "execution_count": 54,
     "metadata": {},
     "output_type": "execute_result"
    }
   ],
   "source": [
    "calc_implied_volatility(115, 4782, 4800, 0.128767, 0.02, 'call')"
   ]
  },
  {
   "cell_type": "code",
   "execution_count": 43,
   "id": "2e258e31",
   "metadata": {},
   "outputs": [],
   "source": [
    "def BS_call(S, K, T, r, sigma):\n",
    "    d1 = (np.log(S / K) + (r + 0.5 * sigma ** 2) * T) / (sigma * np.sqrt(T))\n",
    "    d2 = d1 - sigma * np.sqrt(T)\n",
    "\n",
    "    call_price = S * norm.cdf(d1) - K * np.exp(-r * T) * norm.cdf(d2)\n",
    "\n",
    "    return call_price"
   ]
  },
  {
   "cell_type": "code",
   "execution_count": null,
   "id": "fa36691a",
   "metadata": {},
   "outputs": [],
   "source": [
    "def black76_price(F, K, T, r, sigma, option_type='call'):\n",
    "    d1 = (np.log(F / K) + 0.5 * sigma**2 * T) / (sigma * np.sqrt(T))\n",
    "    d2 = d1 - sigma * np.sqrt(T)\n",
    "    if option_type == 'call':\n",
    "        return np.exp(-r * T) * (F * norm.cdf(d1) - K * norm.cdf(d2))\n",
    "    elif option_type == 'put':\n",
    "        return np.exp(-r * T) * (K * norm.cdf(-d2) - F * norm.cdf(-d1))\n",
    "    else:\n",
    "        raise ValueError(\"option_type must be 'call' or 'put'\")"
   ]
  }
 ],
 "metadata": {
  "kernelspec": {
   "display_name": "Python [conda env:oye]",
   "language": "python",
   "name": "oye"
  },
  "language_info": {
   "codemirror_mode": {
    "name": "ipython",
    "version": 3
   },
   "file_extension": ".py",
   "mimetype": "text/x-python",
   "name": "python",
   "nbconvert_exporter": "python",
   "pygments_lexer": "ipython3",
   "version": "3.11.9"
  }
 },
 "nbformat": 4,
 "nbformat_minor": 5
}
