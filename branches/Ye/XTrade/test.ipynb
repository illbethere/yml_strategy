{
 "cells": [
  {
   "cell_type": "code",
   "execution_count": 1,
   "id": "cbeb7dca",
   "metadata": {},
   "outputs": [],
   "source": [
    "import traceback\n",
    "import pandas as pd\n",
    "import numpy as np\n",
    "import statsmodels.api as sm\n",
    "from xtquant import xtdata\n",
    "from xtquant.qmttools.contextinfo import ContextInfo\n",
    "import multiprocessing as mp\n",
    "from tools.Order import *\n",
    "import concurrent.futures as con\n",
    "from tools.MultiTask import run_strategy\n",
    "import time\n",
    "# from datetime import datetime, timedelta\n",
    "import datetime as dt\n",
    "from tools.Reconnect import connect_xttrader, reconnect_xttrader\n",
    "from xtquant_gt import xtconstant\n",
    "from xtquant_gt.xttype import StockAccount\n"
   ]
  },
  {
   "cell_type": "code",
   "execution_count": null,
   "id": "21017645",
   "metadata": {},
   "outputs": [],
   "source": [
    "xt_trader = "
   ]
  }
 ],
 "metadata": {
  "kernelspec": {
   "display_name": "Python 3",
   "language": "python",
   "name": "python3"
  },
  "language_info": {
   "codemirror_mode": {
    "name": "ipython",
    "version": 3
   },
   "file_extension": ".py",
   "mimetype": "text/x-python",
   "name": "python",
   "nbconvert_exporter": "python",
   "pygments_lexer": "ipython3",
   "version": "3.11.9"
  }
 },
 "nbformat": 4,
 "nbformat_minor": 5
}
