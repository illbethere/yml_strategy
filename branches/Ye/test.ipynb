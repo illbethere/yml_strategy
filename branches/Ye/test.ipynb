{
 "cells": [
  {
   "cell_type": "code",
   "execution_count": 1,
   "id": "6f5214b3",
   "metadata": {},
   "outputs": [
    {
     "name": "stderr",
     "output_type": "stream",
     "text": [
      "c:\\Users\\Administrator\\AppData\\Local\\Programs\\Python\\Python312\\Lib\\site-packages\\xtquant\\__init__.py:8: UserWarning: pkg_resources is deprecated as an API. See https://setuptools.pypa.io/en/latest/pkg_resources.html. The pkg_resources package is slated for removal as early as 2025-11-30. Refrain from using this package or pin to Setuptools<81.\n",
      "  from pkg_resources import get_distribution\n"
     ]
    },
    {
     "name": "stdout",
     "output_type": "stream",
     "text": [
      "xtquant250516.1.1已经发布,前往 http://dict.thinktrader.net/nativeApi/download_xtquant.html 查看更新说明\n",
      "\n"
     ]
    }
   ],
   "source": [
    "from xtquant import xtdatacenter as xtdc\n",
    "from xtquant import xtdata\n",
    "import pandas as pd\n",
    "from datetime import datetime, timedelta\n",
    "import time\n",
    "import tkinter as tk\n",
    "from tkinter import ttk, messagebox\n",
    "import asyncio\n",
    "import concurrent.futures\n",
    "import threading\n",
    "\n",
    "xtdc.set_token(\"4065054877ce5724155dbc5bcba200381ce5eb35\")\n",
    "xtdc.init()"
   ]
  },
  {
   "cell_type": "code",
   "execution_count": 12,
   "id": "972c957c",
   "metadata": {},
   "outputs": [
    {
     "name": "stdout",
     "output_type": "stream",
     "text": [
      "['jd2509-C-3250.DF', 'jd2509-C-3300.DF', 'jd2509-C-3350.DF', 'jd2509-C-3400.DF', 'jd2509-C-3450.DF', 'jd2509-C-3500.DF', 'jd2509-C-3550.DF', 'jd2509-C-3600.DF', 'jd2509-C-3650.DF', 'jd2509-C-3700.DF', 'jd2509-C-3750.DF', 'jd2509-C-3800.DF', 'jd2509-C-3850.DF', 'jd2509-C-3900.DF', 'jd2509-C-3950.DF', 'jd2509-C-4000.DF', 'jd2509-C-4100.DF', 'jd2509-C-4200.DF', 'jd2509-C-4300.DF', 'jd2509-C-4400.DF', 'jd2509-C-4600.DF', 'jd2509-P-3250.DF', 'jd2509-P-3300.DF', 'jd2509-P-3350.DF', 'jd2509-P-3400.DF', 'jd2509-P-3450.DF', 'jd2509-P-3500.DF', 'jd2509-P-3550.DF', 'jd2509-P-3600.DF', 'jd2509-P-3650.DF', 'jd2509-P-3700.DF', 'jd2509-P-3750.DF', 'jd2509-P-3800.DF', 'jd2509-P-3850.DF', 'jd2509-P-3900.DF', 'jd2509-P-3950.DF', 'jd2509-P-4000.DF', 'jd2509-P-4100.DF', 'jd2509-P-4200.DF', 'jd2509-P-4300.DF', 'jd2509-P-4400.DF', 'jd2509-P-4600.DF']\n"
     ]
    }
   ],
   "source": [
    "print(xtdata.get_option_undl_data(\"jd2509.DF\"))"
   ]
  }
 ],
 "metadata": {
  "kernelspec": {
   "display_name": "Python 3",
   "language": "python",
   "name": "python3"
  },
  "language_info": {
   "codemirror_mode": {
    "name": "ipython",
    "version": 3
   },
   "file_extension": ".py",
   "mimetype": "text/x-python",
   "name": "python",
   "nbconvert_exporter": "python",
   "pygments_lexer": "ipython3",
   "version": "3.12.10"
  }
 },
 "nbformat": 4,
 "nbformat_minor": 5
}
