{
 "cells": [
  {
   "cell_type": "code",
   "execution_count": 3,
   "id": "93d55355",
   "metadata": {
    "ExecuteTime": {
     "end_time": "2025-06-09T01:32:17.332968Z",
     "start_time": "2025-06-09T01:32:16.477688Z"
    }
   },
   "outputs": [],
   "source": [
    "import re\n",
    "import numpy as np\n",
    "import multiprocessing as mp\n",
    "import sys\n",
    "import pandas as pd\n",
    "from xtquant import xtdata\n",
    "import matplotlib.pyplot as plt\n",
    "from datetime import datetime, timedelta\n",
    "import seaborn as sns\n",
    "from cook_data import cook_data\n",
    "from read_data import get_market_data,get_main_contract_code"
   ]
  },
  {
   "cell_type": "code",
   "execution_count": 2,
   "id": "7b6c2e32",
   "metadata": {
    "ExecuteTime": {
     "end_time": "2025-06-09T01:32:24.365550Z",
     "start_time": "2025-06-09T01:32:17.341975Z"
    }
   },
   "outputs": [],
   "source": [
    "from xtquant import xtdatacenter as xtdc  \n",
    "xtdc.set_token('4065054877ce5724155dbc5bcba200381ce5eb35')\n",
    "xtdc.init()"
   ]
  },
  {
   "cell_type": "code",
   "execution_count": 4,
   "id": "1d7f406b",
   "metadata": {},
   "outputs": [],
   "source": [
    "    continuous_contract_code = 'TA00.ZF'  # 示例期货代码\n",
    "    start_date = '20250604'\n",
    "    end_date = '20250613'"
   ]
  },
  {
   "cell_type": "code",
   "execution_count": 5,
   "id": "5c2e4833",
   "metadata": {},
   "outputs": [
    {
     "name": "stdout",
     "output_type": "stream",
     "text": [
      "***** xtdata连接成功 *****\n",
      "服务信息: {'tag': 'xtquant', 'version': '1.0'}\n",
      "服务地址: 127.0.0.1:58609\n",
      "数据路径: c:\\Users\\HP\\Desktop\\project\\branches\\Liang\\work_space-main\\data\\datadir\n",
      "设置xtdata.enable_hello = False可隐藏此消息\n",
      "\n"
     ]
    }
   ],
   "source": [
    "code = get_main_contract_code(continuous_contract_code, start_time=start_date, end_time=end_date)"
   ]
  },
  {
   "cell_type": "code",
   "execution_count": 6,
   "id": "a30777ec",
   "metadata": {},
   "outputs": [
    {
     "data": {
      "text/plain": [
       "'TA509.ZF'"
      ]
     },
     "execution_count": 6,
     "metadata": {},
     "output_type": "execute_result"
    }
   ],
   "source": [
    "code"
   ]
  },
  {
   "cell_type": "code",
   "execution_count": 8,
   "id": "623595a1",
   "metadata": {},
   "outputs": [],
   "source": [
    "future_dict = get_market_data(codes=[code], period='1m', start_time=start_date, end_time=end_date, count=-1)"
   ]
  },
  {
   "cell_type": "code",
   "execution_count": null,
   "id": "461e78c0",
   "metadata": {},
   "outputs": [],
   "source": [
    "future_dict"
   ]
  },
  {
   "cell_type": "code",
   "execution_count": 10,
   "id": "dcb5abe9",
   "metadata": {},
   "outputs": [
    {
     "name": "stdout",
     "output_type": "stream",
     "text": [
      "日期超出交易日历范围\n"
     ]
    },
    {
     "ename": "UnboundLocalError",
     "evalue": "cannot access local variable 'trading_date' where it is not associated with a value",
     "output_type": "error",
     "traceback": [
      "\u001b[31m---------------------------------------------------------------------------\u001b[39m",
      "\u001b[31mUnboundLocalError\u001b[39m                         Traceback (most recent call last)",
      "\u001b[36mCell\u001b[39m\u001b[36m \u001b[39m\u001b[32mIn[10]\u001b[39m\u001b[32m, line 1\u001b[39m\n\u001b[32m----> \u001b[39m\u001b[32m1\u001b[39m future_df = cook_data(raw_data=future_dict[code])[[\u001b[33m'\u001b[39m\u001b[33mdate\u001b[39m\u001b[33m'\u001b[39m, \u001b[33m'\u001b[39m\u001b[33mclose\u001b[39m\u001b[33m'\u001b[39m, \u001b[33m'\u001b[39m\u001b[33mtrading_date\u001b[39m\u001b[33m'\u001b[39m]].copy()\n",
      "\u001b[36mFile \u001b[39m\u001b[32mc:\\Users\\HP\\Desktop\\project\\branches\\Liang\\work_space-main\\cook_data.py:70\u001b[39m, in \u001b[36mcook_data\u001b[39m\u001b[34m(raw_data)\u001b[39m\n\u001b[32m     67\u001b[39m calendar = data[\u001b[33m'\u001b[39m\u001b[33mdate\u001b[39m\u001b[33m'\u001b[39m].dt.date.unique().tolist()\n\u001b[32m     69\u001b[39m \u001b[38;5;28;01mif\u001b[39;00m \u001b[33m'\u001b[39m\u001b[33mdate\u001b[39m\u001b[33m'\u001b[39m \u001b[38;5;129;01min\u001b[39;00m data.columns \u001b[38;5;129;01mand\u001b[39;00m \u001b[33m'\u001b[39m\u001b[33mtime\u001b[39m\u001b[33m'\u001b[39m \u001b[38;5;129;01min\u001b[39;00m data.columns:\n\u001b[32m---> \u001b[39m\u001b[32m70\u001b[39m     data[\u001b[33m'\u001b[39m\u001b[33mtrading_date\u001b[39m\u001b[33m'\u001b[39m] = data[\u001b[33m'\u001b[39m\u001b[33mdate\u001b[39m\u001b[33m'\u001b[39m].apply(\u001b[38;5;28;01mlambda\u001b[39;00m dt: get_trading_date(dt, calendar))\n\u001b[32m     71\u001b[39m     data[\u001b[33m'\u001b[39m\u001b[33mdate_str\u001b[39m\u001b[33m'\u001b[39m] = data[\u001b[33m'\u001b[39m\u001b[33mtrading_date\u001b[39m\u001b[33m'\u001b[39m]  \n\u001b[32m     73\u001b[39m price_columns = [\u001b[33m'\u001b[39m\u001b[33mopen\u001b[39m\u001b[33m'\u001b[39m, \u001b[33m'\u001b[39m\u001b[33mhigh\u001b[39m\u001b[33m'\u001b[39m, \u001b[33m'\u001b[39m\u001b[33mlow\u001b[39m\u001b[33m'\u001b[39m, \u001b[33m'\u001b[39m\u001b[33mclose\u001b[39m\u001b[33m'\u001b[39m]\n",
      "\u001b[36mFile \u001b[39m\u001b[32mc:\\Anaconda\\envs\\oye\\Lib\\site-packages\\pandas\\core\\series.py:4924\u001b[39m, in \u001b[36mSeries.apply\u001b[39m\u001b[34m(self, func, convert_dtype, args, by_row, **kwargs)\u001b[39m\n\u001b[32m   4789\u001b[39m \u001b[38;5;28;01mdef\u001b[39;00m\u001b[38;5;250m \u001b[39m\u001b[34mapply\u001b[39m(\n\u001b[32m   4790\u001b[39m     \u001b[38;5;28mself\u001b[39m,\n\u001b[32m   4791\u001b[39m     func: AggFuncType,\n\u001b[32m   (...)\u001b[39m\u001b[32m   4796\u001b[39m     **kwargs,\n\u001b[32m   4797\u001b[39m ) -> DataFrame | Series:\n\u001b[32m   4798\u001b[39m \u001b[38;5;250m    \u001b[39m\u001b[33;03m\"\"\"\u001b[39;00m\n\u001b[32m   4799\u001b[39m \u001b[33;03m    Invoke function on values of Series.\u001b[39;00m\n\u001b[32m   4800\u001b[39m \n\u001b[32m   (...)\u001b[39m\u001b[32m   4915\u001b[39m \u001b[33;03m    dtype: float64\u001b[39;00m\n\u001b[32m   4916\u001b[39m \u001b[33;03m    \"\"\"\u001b[39;00m\n\u001b[32m   4917\u001b[39m     \u001b[38;5;28;01mreturn\u001b[39;00m SeriesApply(\n\u001b[32m   4918\u001b[39m         \u001b[38;5;28mself\u001b[39m,\n\u001b[32m   4919\u001b[39m         func,\n\u001b[32m   4920\u001b[39m         convert_dtype=convert_dtype,\n\u001b[32m   4921\u001b[39m         by_row=by_row,\n\u001b[32m   4922\u001b[39m         args=args,\n\u001b[32m   4923\u001b[39m         kwargs=kwargs,\n\u001b[32m-> \u001b[39m\u001b[32m4924\u001b[39m     ).apply()\n",
      "\u001b[36mFile \u001b[39m\u001b[32mc:\\Anaconda\\envs\\oye\\Lib\\site-packages\\pandas\\core\\apply.py:1427\u001b[39m, in \u001b[36mSeriesApply.apply\u001b[39m\u001b[34m(self)\u001b[39m\n\u001b[32m   1424\u001b[39m     \u001b[38;5;28;01mreturn\u001b[39;00m \u001b[38;5;28mself\u001b[39m.apply_compat()\n\u001b[32m   1426\u001b[39m \u001b[38;5;66;03m# self.func is Callable\u001b[39;00m\n\u001b[32m-> \u001b[39m\u001b[32m1427\u001b[39m \u001b[38;5;28;01mreturn\u001b[39;00m \u001b[38;5;28mself\u001b[39m.apply_standard()\n",
      "\u001b[36mFile \u001b[39m\u001b[32mc:\\Anaconda\\envs\\oye\\Lib\\site-packages\\pandas\\core\\apply.py:1507\u001b[39m, in \u001b[36mSeriesApply.apply_standard\u001b[39m\u001b[34m(self)\u001b[39m\n\u001b[32m   1501\u001b[39m \u001b[38;5;66;03m# row-wise access\u001b[39;00m\n\u001b[32m   1502\u001b[39m \u001b[38;5;66;03m# apply doesn't have a `na_action` keyword and for backward compat reasons\u001b[39;00m\n\u001b[32m   1503\u001b[39m \u001b[38;5;66;03m# we need to give `na_action=\"ignore\"` for categorical data.\u001b[39;00m\n\u001b[32m   1504\u001b[39m \u001b[38;5;66;03m# TODO: remove the `na_action=\"ignore\"` when that default has been changed in\u001b[39;00m\n\u001b[32m   1505\u001b[39m \u001b[38;5;66;03m#  Categorical (GH51645).\u001b[39;00m\n\u001b[32m   1506\u001b[39m action = \u001b[33m\"\u001b[39m\u001b[33mignore\u001b[39m\u001b[33m\"\u001b[39m \u001b[38;5;28;01mif\u001b[39;00m \u001b[38;5;28misinstance\u001b[39m(obj.dtype, CategoricalDtype) \u001b[38;5;28;01melse\u001b[39;00m \u001b[38;5;28;01mNone\u001b[39;00m\n\u001b[32m-> \u001b[39m\u001b[32m1507\u001b[39m mapped = obj._map_values(\n\u001b[32m   1508\u001b[39m     mapper=curried, na_action=action, convert=\u001b[38;5;28mself\u001b[39m.convert_dtype\n\u001b[32m   1509\u001b[39m )\n\u001b[32m   1511\u001b[39m \u001b[38;5;28;01mif\u001b[39;00m \u001b[38;5;28mlen\u001b[39m(mapped) \u001b[38;5;129;01mand\u001b[39;00m \u001b[38;5;28misinstance\u001b[39m(mapped[\u001b[32m0\u001b[39m], ABCSeries):\n\u001b[32m   1512\u001b[39m     \u001b[38;5;66;03m# GH#43986 Need to do list(mapped) in order to get treated as nested\u001b[39;00m\n\u001b[32m   1513\u001b[39m     \u001b[38;5;66;03m#  See also GH#25959 regarding EA support\u001b[39;00m\n\u001b[32m   1514\u001b[39m     \u001b[38;5;28;01mreturn\u001b[39;00m obj._constructor_expanddim(\u001b[38;5;28mlist\u001b[39m(mapped), index=obj.index)\n",
      "\u001b[36mFile \u001b[39m\u001b[32mc:\\Anaconda\\envs\\oye\\Lib\\site-packages\\pandas\\core\\base.py:919\u001b[39m, in \u001b[36mIndexOpsMixin._map_values\u001b[39m\u001b[34m(self, mapper, na_action, convert)\u001b[39m\n\u001b[32m    916\u001b[39m arr = \u001b[38;5;28mself\u001b[39m._values\n\u001b[32m    918\u001b[39m \u001b[38;5;28;01mif\u001b[39;00m \u001b[38;5;28misinstance\u001b[39m(arr, ExtensionArray):\n\u001b[32m--> \u001b[39m\u001b[32m919\u001b[39m     \u001b[38;5;28;01mreturn\u001b[39;00m arr.map(mapper, na_action=na_action)\n\u001b[32m    921\u001b[39m \u001b[38;5;28;01mreturn\u001b[39;00m algorithms.map_array(arr, mapper, na_action=na_action, convert=convert)\n",
      "\u001b[36mFile \u001b[39m\u001b[32mc:\\Anaconda\\envs\\oye\\Lib\\site-packages\\pandas\\core\\arrays\\_mixins.py:81\u001b[39m, in \u001b[36mravel_compat.<locals>.method\u001b[39m\u001b[34m(self, *args, **kwargs)\u001b[39m\n\u001b[32m     78\u001b[39m \u001b[38;5;129m@wraps\u001b[39m(meth)\n\u001b[32m     79\u001b[39m \u001b[38;5;28;01mdef\u001b[39;00m\u001b[38;5;250m \u001b[39m\u001b[34mmethod\u001b[39m(\u001b[38;5;28mself\u001b[39m, *args, **kwargs):\n\u001b[32m     80\u001b[39m     \u001b[38;5;28;01mif\u001b[39;00m \u001b[38;5;28mself\u001b[39m.ndim == \u001b[32m1\u001b[39m:\n\u001b[32m---> \u001b[39m\u001b[32m81\u001b[39m         \u001b[38;5;28;01mreturn\u001b[39;00m meth(\u001b[38;5;28mself\u001b[39m, *args, **kwargs)\n\u001b[32m     83\u001b[39m     flags = \u001b[38;5;28mself\u001b[39m._ndarray.flags\n\u001b[32m     84\u001b[39m     flat = \u001b[38;5;28mself\u001b[39m.ravel(\u001b[33m\"\u001b[39m\u001b[33mK\u001b[39m\u001b[33m\"\u001b[39m)\n",
      "\u001b[36mFile \u001b[39m\u001b[32mc:\\Anaconda\\envs\\oye\\Lib\\site-packages\\pandas\\core\\arrays\\datetimelike.py:740\u001b[39m, in \u001b[36mDatetimeLikeArrayMixin.map\u001b[39m\u001b[34m(self, mapper, na_action)\u001b[39m\n\u001b[32m    736\u001b[39m \u001b[38;5;129m@ravel_compat\u001b[39m\n\u001b[32m    737\u001b[39m \u001b[38;5;28;01mdef\u001b[39;00m\u001b[38;5;250m \u001b[39m\u001b[34mmap\u001b[39m(\u001b[38;5;28mself\u001b[39m, mapper, na_action=\u001b[38;5;28;01mNone\u001b[39;00m):\n\u001b[32m    738\u001b[39m     \u001b[38;5;28;01mfrom\u001b[39;00m\u001b[38;5;250m \u001b[39m\u001b[34;01mpandas\u001b[39;00m\u001b[38;5;250m \u001b[39m\u001b[38;5;28;01mimport\u001b[39;00m Index\n\u001b[32m--> \u001b[39m\u001b[32m740\u001b[39m     result = map_array(\u001b[38;5;28mself\u001b[39m, mapper, na_action=na_action)\n\u001b[32m    741\u001b[39m     result = Index(result)\n\u001b[32m    743\u001b[39m     \u001b[38;5;28;01mif\u001b[39;00m \u001b[38;5;28misinstance\u001b[39m(result, ABCMultiIndex):\n",
      "\u001b[36mFile \u001b[39m\u001b[32mc:\\Anaconda\\envs\\oye\\Lib\\site-packages\\pandas\\core\\algorithms.py:1743\u001b[39m, in \u001b[36mmap_array\u001b[39m\u001b[34m(arr, mapper, na_action, convert)\u001b[39m\n\u001b[32m   1741\u001b[39m values = arr.astype(\u001b[38;5;28mobject\u001b[39m, copy=\u001b[38;5;28;01mFalse\u001b[39;00m)\n\u001b[32m   1742\u001b[39m \u001b[38;5;28;01mif\u001b[39;00m na_action \u001b[38;5;129;01mis\u001b[39;00m \u001b[38;5;28;01mNone\u001b[39;00m:\n\u001b[32m-> \u001b[39m\u001b[32m1743\u001b[39m     \u001b[38;5;28;01mreturn\u001b[39;00m lib.map_infer(values, mapper, convert=convert)\n\u001b[32m   1744\u001b[39m \u001b[38;5;28;01melse\u001b[39;00m:\n\u001b[32m   1745\u001b[39m     \u001b[38;5;28;01mreturn\u001b[39;00m lib.map_infer_mask(\n\u001b[32m   1746\u001b[39m         values, mapper, mask=isna(values).view(np.uint8), convert=convert\n\u001b[32m   1747\u001b[39m     )\n",
      "\u001b[36mFile \u001b[39m\u001b[32mlib.pyx:2972\u001b[39m, in \u001b[36mpandas._libs.lib.map_infer\u001b[39m\u001b[34m()\u001b[39m\n",
      "\u001b[36mFile \u001b[39m\u001b[32mc:\\Users\\HP\\Desktop\\project\\branches\\Liang\\work_space-main\\cook_data.py:70\u001b[39m, in \u001b[36mcook_data.<locals>.<lambda>\u001b[39m\u001b[34m(dt)\u001b[39m\n\u001b[32m     67\u001b[39m calendar = data[\u001b[33m'\u001b[39m\u001b[33mdate\u001b[39m\u001b[33m'\u001b[39m].dt.date.unique().tolist()\n\u001b[32m     69\u001b[39m \u001b[38;5;28;01mif\u001b[39;00m \u001b[33m'\u001b[39m\u001b[33mdate\u001b[39m\u001b[33m'\u001b[39m \u001b[38;5;129;01min\u001b[39;00m data.columns \u001b[38;5;129;01mand\u001b[39;00m \u001b[33m'\u001b[39m\u001b[33mtime\u001b[39m\u001b[33m'\u001b[39m \u001b[38;5;129;01min\u001b[39;00m data.columns:\n\u001b[32m---> \u001b[39m\u001b[32m70\u001b[39m     data[\u001b[33m'\u001b[39m\u001b[33mtrading_date\u001b[39m\u001b[33m'\u001b[39m] = data[\u001b[33m'\u001b[39m\u001b[33mdate\u001b[39m\u001b[33m'\u001b[39m].apply(\u001b[38;5;28;01mlambda\u001b[39;00m dt: get_trading_date(dt, calendar))\n\u001b[32m     71\u001b[39m     data[\u001b[33m'\u001b[39m\u001b[33mdate_str\u001b[39m\u001b[33m'\u001b[39m] = data[\u001b[33m'\u001b[39m\u001b[33mtrading_date\u001b[39m\u001b[33m'\u001b[39m]  \n\u001b[32m     73\u001b[39m price_columns = [\u001b[33m'\u001b[39m\u001b[33mopen\u001b[39m\u001b[33m'\u001b[39m, \u001b[33m'\u001b[39m\u001b[33mhigh\u001b[39m\u001b[33m'\u001b[39m, \u001b[33m'\u001b[39m\u001b[33mlow\u001b[39m\u001b[33m'\u001b[39m, \u001b[33m'\u001b[39m\u001b[33mclose\u001b[39m\u001b[33m'\u001b[39m]\n",
      "\u001b[36mFile \u001b[39m\u001b[32mc:\\Users\\HP\\Desktop\\project\\branches\\Liang\\work_space-main\\cook_data.py:30\u001b[39m, in \u001b[36mget_trading_date\u001b[39m\u001b[34m(dt, calendar)\u001b[39m\n\u001b[32m     26\u001b[39m \u001b[38;5;28;01melse\u001b[39;00m:\n\u001b[32m     27\u001b[39m     \u001b[38;5;66;03m# 日盘时间：09:00-15:00，交易日就是当天\u001b[39;00m\n\u001b[32m     28\u001b[39m     trading_date = dt.date()\n\u001b[32m---> \u001b[39m\u001b[32m30\u001b[39m \u001b[38;5;28;01mreturn\u001b[39;00m trading_date.strftime(\u001b[33m'\u001b[39m\u001b[33m%\u001b[39m\u001b[33mY\u001b[39m\u001b[33m%\u001b[39m\u001b[33mm\u001b[39m\u001b[38;5;132;01m%d\u001b[39;00m\u001b[33m'\u001b[39m)\n",
      "\u001b[31mUnboundLocalError\u001b[39m: cannot access local variable 'trading_date' where it is not associated with a value"
     ]
    }
   ],
   "source": [
    "future_df = cook_data(raw_data=future_dict[code])[['date', 'close', 'trading_date']].copy()"
   ]
  },
  {
   "cell_type": "code",
   "execution_count": 5,
   "id": "eb57bde0",
   "metadata": {},
   "outputs": [
    {
     "data": {
      "text/plain": [
       "{'ExchangeID': 'CZCE',\n",
       " 'InstrumentID': 'SH509C2840',\n",
       " 'InstrumentName': 'SH509C2840',\n",
       " 'ProductID': 'SHC',\n",
       " 'ProductType': 2,\n",
       " 'OpenDate': '20250102',\n",
       " 'CreateDate': '20250102',\n",
       " 'ExpireDate': '20250813',\n",
       " 'PreClose': 6.5,\n",
       " 'SettlementPrice': 6.5,\n",
       " 'UpStopPrice': 169.5,\n",
       " 'DownStopPrice': 0.5,\n",
       " 'LongMarginRatio': 0.0,\n",
       " 'ShortMarginRatio': 0.0,\n",
       " 'PriceTick': 0.5,\n",
       " 'VolumeMultiple': 30,\n",
       " 'MaxMarketOrderVolume': 2,\n",
       " 'MinMarketOrderVolume': 1,\n",
       " 'MaxLimitOrderVolume': 100,\n",
       " 'MinLimitOrderVolume': 1,\n",
       " 'OptUnit': 30.0,\n",
       " 'MarginUnit': 1.7976931348623157e+308,\n",
       " 'OptUndlCode': 'SH2509',\n",
       " 'OptUndlMarket': 'ZF',\n",
       " 'OptUndlCodeFull': 'SH2509.ZF',\n",
       " 'OptExercisePrice': 2840.0,\n",
       " 'NeeqExeType': 2147483647,\n",
       " 'OptUndlRiskFreeRate': 0.0165,\n",
       " 'OptUndlHistoryRate': 0.1962,\n",
       " 'EndDelivDate': '20250813',\n",
       " 'optType': 'CALL',\n",
       " 'ProductCode': 'SH.ZF'}"
      ]
     },
     "execution_count": 5,
     "metadata": {},
     "output_type": "execute_result"
    }
   ],
   "source": [
    "xtdata.get_option_detail_data('SH509C2840.ZF')"
   ]
  },
  {
   "cell_type": "code",
   "execution_count": 25,
   "id": "2789158c",
   "metadata": {},
   "outputs": [],
   "source": [
    "A = get_market_data(codes=['SH509C2840.ZF'], period='1m', start_time='20250401100400', end_time='20250401100400', count=-1)"
   ]
  },
  {
   "cell_type": "code",
   "execution_count": 26,
   "id": "d638025f",
   "metadata": {},
   "outputs": [],
   "source": [
    "A = A['SH509C2840.ZF']"
   ]
  },
  {
   "cell_type": "code",
   "execution_count": 27,
   "id": "7cafe6e5",
   "metadata": {},
   "outputs": [
    {
     "data": {
      "application/vnd.microsoft.datawrangler.viewer.v0+json": {
       "columns": [
        {
         "name": "index",
         "rawType": "object",
         "type": "string"
        },
        {
         "name": "time",
         "rawType": "int64",
         "type": "integer"
        },
        {
         "name": "open",
         "rawType": "float64",
         "type": "float"
        },
        {
         "name": "high",
         "rawType": "float64",
         "type": "float"
        },
        {
         "name": "low",
         "rawType": "float64",
         "type": "float"
        },
        {
         "name": "close",
         "rawType": "float64",
         "type": "float"
        },
        {
         "name": "volume",
         "rawType": "int64",
         "type": "integer"
        },
        {
         "name": "amount",
         "rawType": "float64",
         "type": "float"
        },
        {
         "name": "settelementPrice",
         "rawType": "float64",
         "type": "float"
        },
        {
         "name": "openInterest",
         "rawType": "int64",
         "type": "integer"
        },
        {
         "name": "preClose",
         "rawType": "float64",
         "type": "float"
        },
        {
         "name": "suspendFlag",
         "rawType": "int32",
         "type": "integer"
        }
       ],
       "ref": "1c9f84f2-a5ce-4543-b7f2-826d0c150206",
       "rows": [
        [
         "20250401100400",
         "1743473040000",
         "67.0",
         "67.0",
         "67.0",
         "67.0",
         "0",
         "0.0",
         "0.0",
         "86",
         "67.0",
         "0"
        ]
       ],
       "shape": {
        "columns": 11,
        "rows": 1
       }
      },
      "text/html": [
       "<div>\n",
       "<style scoped>\n",
       "    .dataframe tbody tr th:only-of-type {\n",
       "        vertical-align: middle;\n",
       "    }\n",
       "\n",
       "    .dataframe tbody tr th {\n",
       "        vertical-align: top;\n",
       "    }\n",
       "\n",
       "    .dataframe thead th {\n",
       "        text-align: right;\n",
       "    }\n",
       "</style>\n",
       "<table border=\"1\" class=\"dataframe\">\n",
       "  <thead>\n",
       "    <tr style=\"text-align: right;\">\n",
       "      <th></th>\n",
       "      <th>time</th>\n",
       "      <th>open</th>\n",
       "      <th>high</th>\n",
       "      <th>low</th>\n",
       "      <th>close</th>\n",
       "      <th>volume</th>\n",
       "      <th>amount</th>\n",
       "      <th>settelementPrice</th>\n",
       "      <th>openInterest</th>\n",
       "      <th>preClose</th>\n",
       "      <th>suspendFlag</th>\n",
       "    </tr>\n",
       "  </thead>\n",
       "  <tbody>\n",
       "    <tr>\n",
       "      <th>20250401100400</th>\n",
       "      <td>1743473040000</td>\n",
       "      <td>67.0</td>\n",
       "      <td>67.0</td>\n",
       "      <td>67.0</td>\n",
       "      <td>67.0</td>\n",
       "      <td>0</td>\n",
       "      <td>0.0</td>\n",
       "      <td>0.0</td>\n",
       "      <td>86</td>\n",
       "      <td>67.0</td>\n",
       "      <td>0</td>\n",
       "    </tr>\n",
       "  </tbody>\n",
       "</table>\n",
       "</div>"
      ],
      "text/plain": [
       "                         time  open  high   low  close  volume  amount  \\\n",
       "20250401100400  1743473040000  67.0  67.0  67.0   67.0       0     0.0   \n",
       "\n",
       "                settelementPrice  openInterest  preClose  suspendFlag  \n",
       "20250401100400               0.0            86      67.0            0  "
      ]
     },
     "execution_count": 27,
     "metadata": {},
     "output_type": "execute_result"
    }
   ],
   "source": [
    "A"
   ]
  },
  {
   "cell_type": "code",
   "execution_count": 10,
   "id": "78e2d0b3",
   "metadata": {},
   "outputs": [
    {
     "name": "stdout",
     "output_type": "stream",
     "text": [
      "1\n"
     ]
    }
   ],
   "source": [
    "if A['SH2509C2840.ZF'].empty:\n",
    "    print('1')"
   ]
  },
  {
   "cell_type": "code",
   "execution_count": 8,
   "id": "f0773129",
   "metadata": {},
   "outputs": [],
   "source": [
    "option_list = xtdata.get_option_list(undl_code='SH2409.ZF',dedate='',opttype='PUT')"
   ]
  },
  {
   "cell_type": "code",
   "execution_count": null,
   "id": "1f70e2bb",
   "metadata": {},
   "outputs": [],
   "source": [
    "option_list"
   ]
  },
  {
   "cell_type": "code",
   "execution_count": null,
   "id": "958b317b",
   "metadata": {},
   "outputs": [],
   "source": []
  },
  {
   "cell_type": "code",
   "execution_count": null,
   "id": "9826772d",
   "metadata": {},
   "outputs": [],
   "source": []
  },
  {
   "cell_type": "code",
   "execution_count": 4,
   "id": "2c411d0e",
   "metadata": {},
   "outputs": [],
   "source": [
    "#['date','close','trading_date'].copy()"
   ]
  },
  {
   "cell_type": "code",
   "execution_count": 9,
   "id": "d1f568d5",
   "metadata": {},
   "outputs": [],
   "source": [
    "def strategy(code: str, start_date: str, end_date: str, max_signals: int = 30, lookback_days: int = 20, k: float = 0.08, close_n: int = 10) -> pd.DataFrame:\n",
    "    #max_signals:该日积累该次数信号开仓，lookback_days:回溯窗口期大小，k：ratio of option's K and future price, close_n:于行权日前n天平仓\n",
    "    future_dict = get_market_data(codes=[code], period='1m', start_time=start_date, end_time=end_date, count=-1)\n",
    "    future_df = cook_data(raw_data=future_dict[code])[['date', 'close', 'trading_date']].copy()\n",
    "    \n",
    "    signal_count_pos = 0\n",
    "    signal_count_neg = 0\n",
    "    \n",
    "    # 初始化列\n",
    "    future_df['signal_type'] = 0\n",
    "    future_df['close_min'] = 0.0\n",
    "    future_df['close_max'] = 0.0\n",
    "    \n",
    "    price_dict = {}\n",
    "    rows_to_drop = []\n",
    "    #print(\"开始遍历数据...\")\n",
    "    \n",
    "    for i in range(len(future_df)):\n",
    "        count = 0\n",
    "        current_time = future_df.iloc[i]['date']\n",
    "        current_date = current_time.date()\n",
    "        if count == 0:\n",
    "            yesterday = current_date\n",
    "            count += 1\n",
    "\n",
    "        current_close = future_df.iloc[i]['close']\n",
    "        \n",
    "        current_trading_date = future_df.iloc[i]['trading_date']\n",
    "\n",
    "        close_min = None\n",
    "        close_max = None\n",
    "        \n",
    "        cache_key = current_trading_date\n",
    "        \n",
    "        if cache_key in price_dict:\n",
    "            close_min = price_dict[cache_key]['close_min']\n",
    "            close_max = price_dict[cache_key]['close_max']\n",
    "            future_df.at[i, 'close_min'] = close_min\n",
    "            future_df.at[i, 'close_max'] = close_max\n",
    "        else:\n",
    "            try:\n",
    "                dict_data = get_market_data([code], '1d', '', current_trading_date, lookback_days)\n",
    "                \n",
    "                if code in dict_data and not dict_data[code].empty:\n",
    "                    close_min = dict_data[code]['close'].min()\n",
    "                    close_max = dict_data[code]['close'].max()\n",
    "                    future_df.at[i, 'close_min'] = close_min\n",
    "                    future_df.at[i, 'close_max'] = close_max\n",
    "                    price_dict[cache_key] = {'close_min': close_min, 'close_max': close_max}\n",
    "                else:\n",
    "                    print(f\"无法获取交易时间 {current_time} 的历史数据，标记删除行 {i}\")\n",
    "                    rows_to_drop.append(i)\n",
    "                    continue\n",
    "                    \n",
    "            except Exception as e:\n",
    "                print(f\"获取数据错误: {e}，标记删除行 {i}\")\n",
    "                rows_to_drop.append(i)\n",
    "                continue\n",
    "        \n",
    "        if close_min is None or close_max is None:\n",
    "            print(f\"行 {i} 数据无效，标记删除\")\n",
    "            rows_to_drop.append(i)\n",
    "            continue\n",
    "        \n",
    "        if current_close > close_max:\n",
    "            signal_count_pos += 1\n",
    "            signal_count_neg = 0  \n",
    "            \n",
    "        elif current_close < close_min:\n",
    "            signal_count_neg += 1\n",
    "            signal_count_pos = 0  \n",
    "\n",
    "        if signal_count_pos >= max_signals:\n",
    "            future_df.at[i, 'signal_type'] = 1\n",
    "            # print(f\"触发卖出PUT信号，交易时间: {current_date}, 价格: {current_close:.2f}\")\n",
    "            signal_count_pos = 0\n",
    "            \n",
    "        if signal_count_neg >= max_signals:\n",
    "            future_df.at[i, 'signal_type'] = -1\n",
    "            # print(f\"触发卖出CALL信号，交易时间: {current_date}, 价格: {current_close:.2f}\")\n",
    "            signal_count_neg = 0\n",
    "\n",
    "        if yesterday != current_date:\n",
    "            signal_count_pos = 0\n",
    "            signal_count_neg = 0\n",
    "\n",
    "        yesterday = current_date\n",
    "        \n",
    "    if rows_to_drop:\n",
    "        print(f\"\\n删除 {len(rows_to_drop)} 行无效数据\")\n",
    "        future_df = future_df.drop(rows_to_drop).reset_index(drop=True)\n",
    "        print(f\"删除后剩余数据: {len(future_df)} 条\")\n",
    "    future_df = future_df.dropna().reset_index(drop=True)\n",
    "    \n",
    "    print(f\"\\n=== 策略执行完成 ===\")\n",
    "    print(f\"最终数据量: {len(future_df)} 条\")\n",
    "\n",
    "    return future_df"
   ]
  },
  {
   "cell_type": "code",
   "execution_count": 7,
   "id": "46c2efc5",
   "metadata": {},
   "outputs": [
    {
     "name": "stdout",
     "output_type": "stream",
     "text": [
      "数据解析完成: 6453 条有效数据\n"
     ]
    },
    {
     "name": "stderr",
     "output_type": "stream",
     "text": [
      "Traceback (most recent call last):\n",
      "  File \"c:\\Anaconda\\envs\\oye\\Lib\\site-packages\\pandas\\core\\indexes\\base.py\", line 3805, in get_loc\n",
      "    return self._engine.get_loc(casted_key)\n",
      "           ^^^^^^^^^^^^^^^^^^^^^^^^^^^^^^^^\n",
      "  File \"index.pyx\", line 167, in pandas._libs.index.IndexEngine.get_loc\n",
      "  File \"index.pyx\", line 196, in pandas._libs.index.IndexEngine.get_loc\n",
      "  File \"pandas\\\\_libs\\\\hashtable_class_helper.pxi\", line 7081, in pandas._libs.hashtable.PyObjectHashTable.get_item\n",
      "  File \"pandas\\\\_libs\\\\hashtable_class_helper.pxi\", line 7089, in pandas._libs.hashtable.PyObjectHashTable.get_item\n",
      "KeyError: ('date', 'close')\n",
      "\n",
      "The above exception was the direct cause of the following exception:\n",
      "\n",
      "Traceback (most recent call last):\n",
      "  File \"C:\\Users\\HP\\AppData\\Local\\Temp\\ipykernel_21464\\2685095480.py\", line 2, in <module>\n",
      "    strategy(code='SH2509.ZF', start_date='20250501', end_date='20250601', max_signals= 30,lookback_days=1, k=0.05, close_n=5)\n",
      "  File \"C:\\Users\\HP\\AppData\\Local\\Temp\\ipykernel_21464\\3812052527.py\", line 4, in strategy\n",
      "    future_df = cook_data(raw_data=future_dict[code])['date','close']\n",
      "                ~~~~~~~~~~~~~~~~~~~~~~~~~~~~~~~~~~~~~^^^^^^^^^^^^^^^^\n",
      "  File \"c:\\Anaconda\\envs\\oye\\Lib\\site-packages\\pandas\\core\\frame.py\", line 4102, in __getitem__\n",
      "    indexer = self.columns.get_loc(key)\n",
      "              ^^^^^^^^^^^^^^^^^^^^^^^^^\n",
      "  File \"c:\\Anaconda\\envs\\oye\\Lib\\site-packages\\pandas\\core\\indexes\\base.py\", line 3812, in get_loc\n",
      "    raise KeyError(key) from err\n",
      "KeyError: ('date', 'close')\n"
     ]
    }
   ],
   "source": [
    "try:\n",
    "    strategy(code='SH2509.ZF', start_date='20250501', end_date='20250601', max_signals= 30,lookback_days=1, k=0.05, close_n=5)\n",
    "except:\n",
    "    import traceback\n",
    "    traceback.print_exc()"
   ]
  },
  {
   "cell_type": "code",
   "execution_count": 10,
   "id": "172520ca",
   "metadata": {},
   "outputs": [
    {
     "name": "stdout",
     "output_type": "stream",
     "text": [
      "数据解析完成: 6453 条有效数据\n",
      "\n",
      "=== 策略执行完成 ===\n",
      "最终数据量: 6453 条\n"
     ]
    },
    {
     "data": {
      "application/vnd.microsoft.datawrangler.viewer.v0+json": {
       "columns": [
        {
         "name": "index",
         "rawType": "int64",
         "type": "integer"
        },
        {
         "name": "date",
         "rawType": "datetime64[ns]",
         "type": "datetime"
        },
        {
         "name": "close",
         "rawType": "float64",
         "type": "float"
        },
        {
         "name": "trading_date",
         "rawType": "object",
         "type": "string"
        },
        {
         "name": "signal_type",
         "rawType": "int64",
         "type": "integer"
        },
        {
         "name": "close_min",
         "rawType": "float64",
         "type": "float"
        },
        {
         "name": "close_max",
         "rawType": "float64",
         "type": "float"
        }
       ],
       "ref": "f06d079c-4786-42af-964a-fa57dcf99987",
       "rows": [
        [
         "0",
         "2025-05-06 09:01:00",
         "2479.0",
         "20250506",
         "0",
         "2498.0",
         "2498.0"
        ],
        [
         "1",
         "2025-05-06 09:02:00",
         "2475.0",
         "20250506",
         "0",
         "2498.0",
         "2498.0"
        ],
        [
         "2",
         "2025-05-06 09:03:00",
         "2471.0",
         "20250506",
         "0",
         "2498.0",
         "2498.0"
        ],
        [
         "3",
         "2025-05-06 09:04:00",
         "2476.0",
         "20250506",
         "0",
         "2498.0",
         "2498.0"
        ],
        [
         "4",
         "2025-05-06 09:05:00",
         "2478.0",
         "20250506",
         "0",
         "2498.0",
         "2498.0"
        ],
        [
         "5",
         "2025-05-06 09:06:00",
         "2478.0",
         "20250506",
         "0",
         "2498.0",
         "2498.0"
        ],
        [
         "6",
         "2025-05-06 09:07:00",
         "2480.0",
         "20250506",
         "0",
         "2498.0",
         "2498.0"
        ],
        [
         "7",
         "2025-05-06 09:08:00",
         "2473.0",
         "20250506",
         "0",
         "2498.0",
         "2498.0"
        ],
        [
         "8",
         "2025-05-06 09:09:00",
         "2479.0",
         "20250506",
         "0",
         "2498.0",
         "2498.0"
        ],
        [
         "9",
         "2025-05-06 09:10:00",
         "2478.0",
         "20250506",
         "0",
         "2498.0",
         "2498.0"
        ],
        [
         "10",
         "2025-05-06 09:11:00",
         "2477.0",
         "20250506",
         "0",
         "2498.0",
         "2498.0"
        ],
        [
         "11",
         "2025-05-06 09:12:00",
         "2481.0",
         "20250506",
         "0",
         "2498.0",
         "2498.0"
        ],
        [
         "12",
         "2025-05-06 09:13:00",
         "2483.0",
         "20250506",
         "0",
         "2498.0",
         "2498.0"
        ],
        [
         "13",
         "2025-05-06 09:14:00",
         "2485.0",
         "20250506",
         "0",
         "2498.0",
         "2498.0"
        ],
        [
         "14",
         "2025-05-06 09:15:00",
         "2482.0",
         "20250506",
         "0",
         "2498.0",
         "2498.0"
        ],
        [
         "15",
         "2025-05-06 09:16:00",
         "2482.0",
         "20250506",
         "0",
         "2498.0",
         "2498.0"
        ],
        [
         "16",
         "2025-05-06 09:17:00",
         "2481.0",
         "20250506",
         "0",
         "2498.0",
         "2498.0"
        ],
        [
         "17",
         "2025-05-06 09:18:00",
         "2481.0",
         "20250506",
         "0",
         "2498.0",
         "2498.0"
        ],
        [
         "18",
         "2025-05-06 09:19:00",
         "2476.0",
         "20250506",
         "0",
         "2498.0",
         "2498.0"
        ],
        [
         "19",
         "2025-05-06 09:20:00",
         "2472.0",
         "20250506",
         "0",
         "2498.0",
         "2498.0"
        ],
        [
         "20",
         "2025-05-06 09:21:00",
         "2475.0",
         "20250506",
         "0",
         "2498.0",
         "2498.0"
        ],
        [
         "21",
         "2025-05-06 09:22:00",
         "2475.0",
         "20250506",
         "0",
         "2498.0",
         "2498.0"
        ],
        [
         "22",
         "2025-05-06 09:23:00",
         "2474.0",
         "20250506",
         "0",
         "2498.0",
         "2498.0"
        ],
        [
         "23",
         "2025-05-06 09:24:00",
         "2474.0",
         "20250506",
         "0",
         "2498.0",
         "2498.0"
        ],
        [
         "24",
         "2025-05-06 09:25:00",
         "2475.0",
         "20250506",
         "0",
         "2498.0",
         "2498.0"
        ],
        [
         "25",
         "2025-05-06 09:26:00",
         "2479.0",
         "20250506",
         "0",
         "2498.0",
         "2498.0"
        ],
        [
         "26",
         "2025-05-06 09:27:00",
         "2480.0",
         "20250506",
         "0",
         "2498.0",
         "2498.0"
        ],
        [
         "27",
         "2025-05-06 09:28:00",
         "2480.0",
         "20250506",
         "0",
         "2498.0",
         "2498.0"
        ],
        [
         "28",
         "2025-05-06 09:29:00",
         "2480.0",
         "20250506",
         "0",
         "2498.0",
         "2498.0"
        ],
        [
         "29",
         "2025-05-06 09:30:00",
         "2483.0",
         "20250506",
         "-1",
         "2498.0",
         "2498.0"
        ],
        [
         "30",
         "2025-05-06 09:31:00",
         "2482.0",
         "20250506",
         "0",
         "2498.0",
         "2498.0"
        ],
        [
         "31",
         "2025-05-06 09:32:00",
         "2490.0",
         "20250506",
         "0",
         "2498.0",
         "2498.0"
        ],
        [
         "32",
         "2025-05-06 09:33:00",
         "2490.0",
         "20250506",
         "0",
         "2498.0",
         "2498.0"
        ],
        [
         "33",
         "2025-05-06 09:34:00",
         "2491.0",
         "20250506",
         "0",
         "2498.0",
         "2498.0"
        ],
        [
         "34",
         "2025-05-06 09:35:00",
         "2488.0",
         "20250506",
         "0",
         "2498.0",
         "2498.0"
        ],
        [
         "35",
         "2025-05-06 09:36:00",
         "2494.0",
         "20250506",
         "0",
         "2498.0",
         "2498.0"
        ],
        [
         "36",
         "2025-05-06 09:37:00",
         "2497.0",
         "20250506",
         "0",
         "2498.0",
         "2498.0"
        ],
        [
         "37",
         "2025-05-06 09:38:00",
         "2491.0",
         "20250506",
         "0",
         "2498.0",
         "2498.0"
        ],
        [
         "38",
         "2025-05-06 09:39:00",
         "2488.0",
         "20250506",
         "0",
         "2498.0",
         "2498.0"
        ],
        [
         "39",
         "2025-05-06 09:40:00",
         "2491.0",
         "20250506",
         "0",
         "2498.0",
         "2498.0"
        ],
        [
         "40",
         "2025-05-06 09:41:00",
         "2494.0",
         "20250506",
         "0",
         "2498.0",
         "2498.0"
        ],
        [
         "41",
         "2025-05-06 09:42:00",
         "2493.0",
         "20250506",
         "0",
         "2498.0",
         "2498.0"
        ],
        [
         "42",
         "2025-05-06 09:43:00",
         "2491.0",
         "20250506",
         "0",
         "2498.0",
         "2498.0"
        ],
        [
         "43",
         "2025-05-06 09:44:00",
         "2491.0",
         "20250506",
         "0",
         "2498.0",
         "2498.0"
        ],
        [
         "44",
         "2025-05-06 09:45:00",
         "2486.0",
         "20250506",
         "0",
         "2498.0",
         "2498.0"
        ],
        [
         "45",
         "2025-05-06 09:46:00",
         "2488.0",
         "20250506",
         "0",
         "2498.0",
         "2498.0"
        ],
        [
         "46",
         "2025-05-06 09:47:00",
         "2482.0",
         "20250506",
         "0",
         "2498.0",
         "2498.0"
        ],
        [
         "47",
         "2025-05-06 09:48:00",
         "2478.0",
         "20250506",
         "0",
         "2498.0",
         "2498.0"
        ],
        [
         "48",
         "2025-05-06 09:49:00",
         "2477.0",
         "20250506",
         "0",
         "2498.0",
         "2498.0"
        ],
        [
         "49",
         "2025-05-06 09:50:00",
         "2480.0",
         "20250506",
         "0",
         "2498.0",
         "2498.0"
        ]
       ],
       "shape": {
        "columns": 6,
        "rows": 6453
       }
      },
      "text/html": [
       "<div>\n",
       "<style scoped>\n",
       "    .dataframe tbody tr th:only-of-type {\n",
       "        vertical-align: middle;\n",
       "    }\n",
       "\n",
       "    .dataframe tbody tr th {\n",
       "        vertical-align: top;\n",
       "    }\n",
       "\n",
       "    .dataframe thead th {\n",
       "        text-align: right;\n",
       "    }\n",
       "</style>\n",
       "<table border=\"1\" class=\"dataframe\">\n",
       "  <thead>\n",
       "    <tr style=\"text-align: right;\">\n",
       "      <th></th>\n",
       "      <th>date</th>\n",
       "      <th>close</th>\n",
       "      <th>trading_date</th>\n",
       "      <th>signal_type</th>\n",
       "      <th>close_min</th>\n",
       "      <th>close_max</th>\n",
       "    </tr>\n",
       "  </thead>\n",
       "  <tbody>\n",
       "    <tr>\n",
       "      <th>0</th>\n",
       "      <td>2025-05-06 09:01:00</td>\n",
       "      <td>2479.0</td>\n",
       "      <td>20250506</td>\n",
       "      <td>0</td>\n",
       "      <td>2498.0</td>\n",
       "      <td>2498.0</td>\n",
       "    </tr>\n",
       "    <tr>\n",
       "      <th>1</th>\n",
       "      <td>2025-05-06 09:02:00</td>\n",
       "      <td>2475.0</td>\n",
       "      <td>20250506</td>\n",
       "      <td>0</td>\n",
       "      <td>2498.0</td>\n",
       "      <td>2498.0</td>\n",
       "    </tr>\n",
       "    <tr>\n",
       "      <th>2</th>\n",
       "      <td>2025-05-06 09:03:00</td>\n",
       "      <td>2471.0</td>\n",
       "      <td>20250506</td>\n",
       "      <td>0</td>\n",
       "      <td>2498.0</td>\n",
       "      <td>2498.0</td>\n",
       "    </tr>\n",
       "    <tr>\n",
       "      <th>3</th>\n",
       "      <td>2025-05-06 09:04:00</td>\n",
       "      <td>2476.0</td>\n",
       "      <td>20250506</td>\n",
       "      <td>0</td>\n",
       "      <td>2498.0</td>\n",
       "      <td>2498.0</td>\n",
       "    </tr>\n",
       "    <tr>\n",
       "      <th>4</th>\n",
       "      <td>2025-05-06 09:05:00</td>\n",
       "      <td>2478.0</td>\n",
       "      <td>20250506</td>\n",
       "      <td>0</td>\n",
       "      <td>2498.0</td>\n",
       "      <td>2498.0</td>\n",
       "    </tr>\n",
       "    <tr>\n",
       "      <th>...</th>\n",
       "      <td>...</td>\n",
       "      <td>...</td>\n",
       "      <td>...</td>\n",
       "      <td>...</td>\n",
       "      <td>...</td>\n",
       "      <td>...</td>\n",
       "    </tr>\n",
       "    <tr>\n",
       "      <th>6448</th>\n",
       "      <td>2025-05-30 14:56:00</td>\n",
       "      <td>2453.0</td>\n",
       "      <td>20250530</td>\n",
       "      <td>0</td>\n",
       "      <td>2456.0</td>\n",
       "      <td>2456.0</td>\n",
       "    </tr>\n",
       "    <tr>\n",
       "      <th>6449</th>\n",
       "      <td>2025-05-30 14:57:00</td>\n",
       "      <td>2455.0</td>\n",
       "      <td>20250530</td>\n",
       "      <td>0</td>\n",
       "      <td>2456.0</td>\n",
       "      <td>2456.0</td>\n",
       "    </tr>\n",
       "    <tr>\n",
       "      <th>6450</th>\n",
       "      <td>2025-05-30 14:58:00</td>\n",
       "      <td>2455.0</td>\n",
       "      <td>20250530</td>\n",
       "      <td>0</td>\n",
       "      <td>2456.0</td>\n",
       "      <td>2456.0</td>\n",
       "    </tr>\n",
       "    <tr>\n",
       "      <th>6451</th>\n",
       "      <td>2025-05-30 14:59:00</td>\n",
       "      <td>2456.0</td>\n",
       "      <td>20250530</td>\n",
       "      <td>0</td>\n",
       "      <td>2456.0</td>\n",
       "      <td>2456.0</td>\n",
       "    </tr>\n",
       "    <tr>\n",
       "      <th>6452</th>\n",
       "      <td>2025-05-30 15:00:00</td>\n",
       "      <td>2456.0</td>\n",
       "      <td>20250530</td>\n",
       "      <td>0</td>\n",
       "      <td>2456.0</td>\n",
       "      <td>2456.0</td>\n",
       "    </tr>\n",
       "  </tbody>\n",
       "</table>\n",
       "<p>6453 rows × 6 columns</p>\n",
       "</div>"
      ],
      "text/plain": [
       "                    date   close trading_date  signal_type  close_min  \\\n",
       "0    2025-05-06 09:01:00  2479.0     20250506            0     2498.0   \n",
       "1    2025-05-06 09:02:00  2475.0     20250506            0     2498.0   \n",
       "2    2025-05-06 09:03:00  2471.0     20250506            0     2498.0   \n",
       "3    2025-05-06 09:04:00  2476.0     20250506            0     2498.0   \n",
       "4    2025-05-06 09:05:00  2478.0     20250506            0     2498.0   \n",
       "...                  ...     ...          ...          ...        ...   \n",
       "6448 2025-05-30 14:56:00  2453.0     20250530            0     2456.0   \n",
       "6449 2025-05-30 14:57:00  2455.0     20250530            0     2456.0   \n",
       "6450 2025-05-30 14:58:00  2455.0     20250530            0     2456.0   \n",
       "6451 2025-05-30 14:59:00  2456.0     20250530            0     2456.0   \n",
       "6452 2025-05-30 15:00:00  2456.0     20250530            0     2456.0   \n",
       "\n",
       "      close_max  \n",
       "0        2498.0  \n",
       "1        2498.0  \n",
       "2        2498.0  \n",
       "3        2498.0  \n",
       "4        2498.0  \n",
       "...         ...  \n",
       "6448     2456.0  \n",
       "6449     2456.0  \n",
       "6450     2456.0  \n",
       "6451     2456.0  \n",
       "6452     2456.0  \n",
       "\n",
       "[6453 rows x 6 columns]"
      ]
     },
     "execution_count": 10,
     "metadata": {},
     "output_type": "execute_result"
    }
   ],
   "source": [
    "strategy(code='SH2509.ZF', start_date='20250501', end_date='20250601', max_signals= 30,lookback_days=1, k=0.05, close_n=5)"
   ]
  },
  {
   "cell_type": "code",
   "execution_count": 42,
   "id": "77d148d9",
   "metadata": {},
   "outputs": [
    {
     "ename": "SyntaxError",
     "evalue": "invalid syntax (1248451188.py, line 1)",
     "output_type": "error",
     "traceback": [
      "  \u001b[36mCell\u001b[39m\u001b[36m \u001b[39m\u001b[32mIn[42]\u001b[39m\u001b[32m, line 1\u001b[39m\n\u001b[31m    \u001b[39m\u001b[31mstrategy(code_input: str, start_date: str, end_date: str, max_signals: int = 30, lookback_days: int = 20, k: float = 0.08, close_n: int = 10)\u001b[39m\n                       ^\n\u001b[31mSyntaxError\u001b[39m\u001b[31m:\u001b[39m invalid syntax\n"
     ]
    }
   ],
   "source": [
    "strategy(code_input: str, start_date: str, end_date: str, max_signals: int = 30, lookback_days: int = 20, k: float = 0.08, close_n: int = 10)"
   ]
  },
  {
   "cell_type": "code",
   "execution_count": null,
   "id": "c28b19a44f924ef2",
   "metadata": {},
   "outputs": [],
   "source": [
    "def get_price(future_code:str, period:int, start_time:str='', end_time:str='') -> pd.DataFrame:\n",
    "    future_df = get_market_data(future_code, period, start_time, end_time)\n",
    "    option_code ="
   ]
  },
  {
   "cell_type": "code",
   "execution_count": 4,
   "id": "1d4ed59b",
   "metadata": {
    "ExecuteTime": {
     "end_time": "2025-06-09T01:32:52.118478Z",
     "start_time": "2025-06-09T01:32:51.133375Z"
    }
   },
   "outputs": [
    {
     "name": "stdout",
     "output_type": "stream",
     "text": [
      "***** xtdata连接成功 *****\n",
      "服务信息: {'tag': 'xtquant', 'version': '1.0'}\n",
      "服务地址: 127.0.0.1:58609\n",
      "数据路径: C:\\Users\\HP\\Desktop\\work_space-main\\data\\datadir\n",
      "设置xtdata.enable_hello = False可隐藏此消息\n",
      "\n"
     ]
    },
    {
     "data": {
      "text/plain": [
       "20250506090100    2479.0\n",
       "20250506090200    2475.0\n",
       "20250506090300    2471.0\n",
       "20250506090400    2476.0\n",
       "20250506090500    2478.0\n",
       "                   ...  \n",
       "20250530145600    2453.0\n",
       "20250530145700    2455.0\n",
       "20250530145800    2455.0\n",
       "20250530145900    2456.0\n",
       "20250530150000    2456.0\n",
       "Name: close, Length: 6453, dtype: float64"
      ]
     },
     "execution_count": 4,
     "metadata": {},
     "output_type": "execute_result"
    }
   ],
   "source": [
    "future_df = get_market_data('SH2509.ZF', '1m', '20250501', '20250601')['close']"
   ]
  },
  {
   "cell_type": "code",
   "execution_count": null,
   "id": "acb56e77",
   "metadata": {},
   "outputs": [],
   "source": []
  },
  {
   "cell_type": "code",
   "execution_count": null,
   "id": "a53f0e28",
   "metadata": {},
   "outputs": [],
   "source": []
  },
  {
   "cell_type": "code",
   "execution_count": null,
   "id": "4bf79f21",
   "metadata": {},
   "outputs": [],
   "source": []
  },
  {
   "cell_type": "code",
   "execution_count": 6,
   "id": "4f4b325b",
   "metadata": {},
   "outputs": [],
   "source": [
    "def parse_option_code(option_code):\n",
    "  \n",
    "    code  = option_code.split('.')[0]\n",
    "    if '-' in code:\n",
    "        parts = code.split('-')\n",
    "        if len(parts) == 3:\n",
    "            underlying = parts[0]\n",
    "            option_type = 'call' if parts[1].upper() == 'C' else 'put'\n",
    "            strike = int(parts[2])\n",
    "        else:\n",
    "            import traceback\n",
    "            traceback.print_exc()\n",
    "\n",
    "    else:\n",
    "\n",
    "        call_pos = code.find('C') # 找不到指定字符串的时候返回 -1\n",
    "        put_pos = code.find('P')\n",
    "\n",
    "        if call_pos != -1:\n",
    "            option_type = 'call'\n",
    "            underlying = code[:call_pos]\n",
    "            strike = int(code[call_pos + 1:])\n",
    "        elif put_pos != -1:\n",
    "            option_type = 'put'\n",
    "            underlying = code[:put_pos]\n",
    "            strike = int(code[put_pos + 1:])\n",
    "        else:\n",
    "            import traceback\n",
    "            traceback.print_exc()\n",
    "\n",
    "    return {\n",
    "        'option_type': option_type,\n",
    "        'underlying': underlying,\n",
    "        'strike': strike,\n",
    "        'exchange': option_code.split('.')[-1] if '.' in option_code else None\n",
    "    }"
   ]
  },
  {
   "cell_type": "code",
   "execution_count": 7,
   "id": "4b001240",
   "metadata": {},
   "outputs": [
    {
     "data": {
      "text/plain": [
       "{'option_type': 'call',\n",
       " 'underlying': 'SH509',\n",
       " 'strike': 2840,\n",
       " 'exchange': 'ZF'}"
      ]
     },
     "execution_count": 7,
     "metadata": {},
     "output_type": "execute_result"
    }
   ],
   "source": [
    "parse_option_code('SH509C2840.ZF')"
   ]
  },
  {
   "cell_type": "code",
   "execution_count": null,
   "id": "3a375037",
   "metadata": {},
   "outputs": [],
   "source": []
  }
 ],
 "metadata": {
  "kernelspec": {
   "display_name": "Python [conda env:oye]",
   "language": "python",
   "name": "oye"
  },
  "language_info": {
   "codemirror_mode": {
    "name": "ipython",
    "version": 3
   },
   "file_extension": ".py",
   "mimetype": "text/x-python",
   "name": "python",
   "nbconvert_exporter": "python",
   "pygments_lexer": "ipython3",
   "version": "3.11.9"
  }
 },
 "nbformat": 4,
 "nbformat_minor": 5
}
